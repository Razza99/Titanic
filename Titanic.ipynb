{
 "cells": [
  {
   "cell_type": "markdown",
   "metadata": {},
   "source": [
    "## Titanic investigation"
   ]
  },
  {
   "cell_type": "code",
   "execution_count": null,
   "metadata": {
    "collapsed": true
   },
   "outputs": [],
   "source": [
    "#data from https://www.kaggle.com/c/titanic\n",
    "#reproducing/combining parts from from tutorials: \n",
    "#https://www.kaggle.com/helgejo/an-interactive-data-science-tutorial\n",
    "#and: https://www.kaggle.com/jeffd23/scikit-learn-ml-from-start-to-finish "
   ]
  },
  {
   "cell_type": "code",
   "execution_count": 1,
   "metadata": {},
   "outputs": [
    {
     "name": "stderr",
     "output_type": "stream",
     "text": [
      "C:\\Users\\Ryan\\Anaconda3\\lib\\site-packages\\sklearn\\cross_validation.py:41: DeprecationWarning: This module was deprecated in version 0.18 in favor of the model_selection module into which all the refactored classes and functions are moved. Also note that the interface of the new CV iterators are different from that of this module. This module will be removed in 0.20.\n",
      "  \"This module will be removed in 0.20.\", DeprecationWarning)\n"
     ]
    }
   ],
   "source": [
    "#Normal imports\n",
    "import numpy as np\n",
    "import pandas as pd\n",
    "import matplotlib.pyplot as plt\n",
    "import seaborn as sns\n",
    "%matplotlib inline\n",
    "\n",
    "#Modelling algorithms\n",
    "from sklearn.tree import DecisionTreeClassifier\n",
    "from sklearn.linear_model import LogisticRegression\n",
    "from sklearn.neighbors import KNeighborsClassifier\n",
    "from sklearn.naive_bayes import GaussianNB\n",
    "from sklearn.svm import SVC, LinearSVC\n",
    "from sklearn.ensemble import RandomForestClassifier , GradientBoostingClassifier\n",
    "\n",
    "# Modelling Helpers\n",
    "from sklearn.preprocessing import Imputer , Normalizer , scale, LabelEncoder\n",
    "from sklearn.feature_selection import RFECV\n",
    "from sklearn.cross_validation import StratifiedKFold\n",
    "from sklearn.model_selection import train_test_split, GridSearchCV, cross_val_score\n",
    "from sklearn.metrics import confusion_matrix, classification_report, accuracy_score"
   ]
  },
  {
   "cell_type": "code",
   "execution_count": 2,
   "metadata": {
    "collapsed": true
   },
   "outputs": [],
   "source": [
    "#Import the data, make a new df with both test and train joined together"
   ]
  },
  {
   "cell_type": "code",
   "execution_count": 3,
   "metadata": {},
   "outputs": [
    {
     "name": "stdout",
     "output_type": "stream",
     "text": [
      "Datasets: full:  (1309, 12)  titanic:  (891, 12)\n"
     ]
    }
   ],
   "source": [
    "train = pd.read_csv('train.csv')\n",
    "test = pd.read_csv('test.csv')\n",
    "\n",
    "full = train.append(test, ignore_index = True)\n",
    "titanic = full[:891]\n",
    "\n",
    "print('Datasets: full: ',full.shape, ' titanic: ',titanic.shape)"
   ]
  },
  {
   "cell_type": "code",
   "execution_count": 4,
   "metadata": {
    "scrolled": false
   },
   "outputs": [
    {
     "data": {
      "text/html": [
       "<div>\n",
       "<style>\n",
       "    .dataframe thead tr:only-child th {\n",
       "        text-align: right;\n",
       "    }\n",
       "\n",
       "    .dataframe thead th {\n",
       "        text-align: left;\n",
       "    }\n",
       "\n",
       "    .dataframe tbody tr th {\n",
       "        vertical-align: top;\n",
       "    }\n",
       "</style>\n",
       "<table border=\"1\" class=\"dataframe\">\n",
       "  <thead>\n",
       "    <tr style=\"text-align: right;\">\n",
       "      <th></th>\n",
       "      <th>Age</th>\n",
       "      <th>Cabin</th>\n",
       "      <th>Embarked</th>\n",
       "      <th>Fare</th>\n",
       "      <th>Name</th>\n",
       "      <th>Parch</th>\n",
       "      <th>PassengerId</th>\n",
       "      <th>Pclass</th>\n",
       "      <th>Sex</th>\n",
       "      <th>SibSp</th>\n",
       "      <th>Survived</th>\n",
       "      <th>Ticket</th>\n",
       "    </tr>\n",
       "  </thead>\n",
       "  <tbody>\n",
       "    <tr>\n",
       "      <th>0</th>\n",
       "      <td>22.0</td>\n",
       "      <td>NaN</td>\n",
       "      <td>S</td>\n",
       "      <td>7.2500</td>\n",
       "      <td>Braund, Mr. Owen Harris</td>\n",
       "      <td>0</td>\n",
       "      <td>1</td>\n",
       "      <td>3</td>\n",
       "      <td>male</td>\n",
       "      <td>1</td>\n",
       "      <td>0.0</td>\n",
       "      <td>A/5 21171</td>\n",
       "    </tr>\n",
       "    <tr>\n",
       "      <th>1</th>\n",
       "      <td>38.0</td>\n",
       "      <td>C85</td>\n",
       "      <td>C</td>\n",
       "      <td>71.2833</td>\n",
       "      <td>Cumings, Mrs. John Bradley (Florence Briggs Th...</td>\n",
       "      <td>0</td>\n",
       "      <td>2</td>\n",
       "      <td>1</td>\n",
       "      <td>female</td>\n",
       "      <td>1</td>\n",
       "      <td>1.0</td>\n",
       "      <td>PC 17599</td>\n",
       "    </tr>\n",
       "    <tr>\n",
       "      <th>2</th>\n",
       "      <td>26.0</td>\n",
       "      <td>NaN</td>\n",
       "      <td>S</td>\n",
       "      <td>7.9250</td>\n",
       "      <td>Heikkinen, Miss. Laina</td>\n",
       "      <td>0</td>\n",
       "      <td>3</td>\n",
       "      <td>3</td>\n",
       "      <td>female</td>\n",
       "      <td>0</td>\n",
       "      <td>1.0</td>\n",
       "      <td>STON/O2. 3101282</td>\n",
       "    </tr>\n",
       "    <tr>\n",
       "      <th>3</th>\n",
       "      <td>35.0</td>\n",
       "      <td>C123</td>\n",
       "      <td>S</td>\n",
       "      <td>53.1000</td>\n",
       "      <td>Futrelle, Mrs. Jacques Heath (Lily May Peel)</td>\n",
       "      <td>0</td>\n",
       "      <td>4</td>\n",
       "      <td>1</td>\n",
       "      <td>female</td>\n",
       "      <td>1</td>\n",
       "      <td>1.0</td>\n",
       "      <td>113803</td>\n",
       "    </tr>\n",
       "    <tr>\n",
       "      <th>4</th>\n",
       "      <td>35.0</td>\n",
       "      <td>NaN</td>\n",
       "      <td>S</td>\n",
       "      <td>8.0500</td>\n",
       "      <td>Allen, Mr. William Henry</td>\n",
       "      <td>0</td>\n",
       "      <td>5</td>\n",
       "      <td>3</td>\n",
       "      <td>male</td>\n",
       "      <td>0</td>\n",
       "      <td>0.0</td>\n",
       "      <td>373450</td>\n",
       "    </tr>\n",
       "  </tbody>\n",
       "</table>\n",
       "</div>"
      ],
      "text/plain": [
       "    Age Cabin Embarked     Fare  \\\n",
       "0  22.0   NaN        S   7.2500   \n",
       "1  38.0   C85        C  71.2833   \n",
       "2  26.0   NaN        S   7.9250   \n",
       "3  35.0  C123        S  53.1000   \n",
       "4  35.0   NaN        S   8.0500   \n",
       "\n",
       "                                                Name  Parch  PassengerId  \\\n",
       "0                            Braund, Mr. Owen Harris      0            1   \n",
       "1  Cumings, Mrs. John Bradley (Florence Briggs Th...      0            2   \n",
       "2                             Heikkinen, Miss. Laina      0            3   \n",
       "3       Futrelle, Mrs. Jacques Heath (Lily May Peel)      0            4   \n",
       "4                           Allen, Mr. William Henry      0            5   \n",
       "\n",
       "   Pclass     Sex  SibSp  Survived            Ticket  \n",
       "0       3    male      1       0.0         A/5 21171  \n",
       "1       1  female      1       1.0          PC 17599  \n",
       "2       3  female      0       1.0  STON/O2. 3101282  \n",
       "3       1  female      1       1.0            113803  \n",
       "4       3    male      0       0.0            373450  "
      ]
     },
     "execution_count": 4,
     "metadata": {},
     "output_type": "execute_result"
    }
   ],
   "source": [
    "titanic.head()"
   ]
  },
  {
   "cell_type": "code",
   "execution_count": 5,
   "metadata": {},
   "outputs": [
    {
     "data": {
      "text/html": [
       "<div>\n",
       "<style>\n",
       "    .dataframe thead tr:only-child th {\n",
       "        text-align: right;\n",
       "    }\n",
       "\n",
       "    .dataframe thead th {\n",
       "        text-align: left;\n",
       "    }\n",
       "\n",
       "    .dataframe tbody tr th {\n",
       "        vertical-align: top;\n",
       "    }\n",
       "</style>\n",
       "<table border=\"1\" class=\"dataframe\">\n",
       "  <thead>\n",
       "    <tr style=\"text-align: right;\">\n",
       "      <th></th>\n",
       "      <th>Age</th>\n",
       "      <th>Fare</th>\n",
       "      <th>Parch</th>\n",
       "      <th>PassengerId</th>\n",
       "      <th>Pclass</th>\n",
       "      <th>SibSp</th>\n",
       "      <th>Survived</th>\n",
       "    </tr>\n",
       "  </thead>\n",
       "  <tbody>\n",
       "    <tr>\n",
       "      <th>count</th>\n",
       "      <td>714.000000</td>\n",
       "      <td>891.000000</td>\n",
       "      <td>891.000000</td>\n",
       "      <td>891.000000</td>\n",
       "      <td>891.000000</td>\n",
       "      <td>891.000000</td>\n",
       "      <td>891.000000</td>\n",
       "    </tr>\n",
       "    <tr>\n",
       "      <th>mean</th>\n",
       "      <td>29.699118</td>\n",
       "      <td>32.204208</td>\n",
       "      <td>0.381594</td>\n",
       "      <td>446.000000</td>\n",
       "      <td>2.308642</td>\n",
       "      <td>0.523008</td>\n",
       "      <td>0.383838</td>\n",
       "    </tr>\n",
       "    <tr>\n",
       "      <th>std</th>\n",
       "      <td>14.526497</td>\n",
       "      <td>49.693429</td>\n",
       "      <td>0.806057</td>\n",
       "      <td>257.353842</td>\n",
       "      <td>0.836071</td>\n",
       "      <td>1.102743</td>\n",
       "      <td>0.486592</td>\n",
       "    </tr>\n",
       "    <tr>\n",
       "      <th>min</th>\n",
       "      <td>0.420000</td>\n",
       "      <td>0.000000</td>\n",
       "      <td>0.000000</td>\n",
       "      <td>1.000000</td>\n",
       "      <td>1.000000</td>\n",
       "      <td>0.000000</td>\n",
       "      <td>0.000000</td>\n",
       "    </tr>\n",
       "    <tr>\n",
       "      <th>25%</th>\n",
       "      <td>20.125000</td>\n",
       "      <td>7.910400</td>\n",
       "      <td>0.000000</td>\n",
       "      <td>223.500000</td>\n",
       "      <td>2.000000</td>\n",
       "      <td>0.000000</td>\n",
       "      <td>0.000000</td>\n",
       "    </tr>\n",
       "    <tr>\n",
       "      <th>50%</th>\n",
       "      <td>28.000000</td>\n",
       "      <td>14.454200</td>\n",
       "      <td>0.000000</td>\n",
       "      <td>446.000000</td>\n",
       "      <td>3.000000</td>\n",
       "      <td>0.000000</td>\n",
       "      <td>0.000000</td>\n",
       "    </tr>\n",
       "    <tr>\n",
       "      <th>75%</th>\n",
       "      <td>38.000000</td>\n",
       "      <td>31.000000</td>\n",
       "      <td>0.000000</td>\n",
       "      <td>668.500000</td>\n",
       "      <td>3.000000</td>\n",
       "      <td>1.000000</td>\n",
       "      <td>1.000000</td>\n",
       "    </tr>\n",
       "    <tr>\n",
       "      <th>max</th>\n",
       "      <td>80.000000</td>\n",
       "      <td>512.329200</td>\n",
       "      <td>6.000000</td>\n",
       "      <td>891.000000</td>\n",
       "      <td>3.000000</td>\n",
       "      <td>8.000000</td>\n",
       "      <td>1.000000</td>\n",
       "    </tr>\n",
       "  </tbody>\n",
       "</table>\n",
       "</div>"
      ],
      "text/plain": [
       "              Age        Fare       Parch  PassengerId      Pclass  \\\n",
       "count  714.000000  891.000000  891.000000   891.000000  891.000000   \n",
       "mean    29.699118   32.204208    0.381594   446.000000    2.308642   \n",
       "std     14.526497   49.693429    0.806057   257.353842    0.836071   \n",
       "min      0.420000    0.000000    0.000000     1.000000    1.000000   \n",
       "25%     20.125000    7.910400    0.000000   223.500000    2.000000   \n",
       "50%     28.000000   14.454200    0.000000   446.000000    3.000000   \n",
       "75%     38.000000   31.000000    0.000000   668.500000    3.000000   \n",
       "max     80.000000  512.329200    6.000000   891.000000    3.000000   \n",
       "\n",
       "            SibSp    Survived  \n",
       "count  891.000000  891.000000  \n",
       "mean     0.523008    0.383838  \n",
       "std      1.102743    0.486592  \n",
       "min      0.000000    0.000000  \n",
       "25%      0.000000    0.000000  \n",
       "50%      0.000000    0.000000  \n",
       "75%      1.000000    1.000000  \n",
       "max      8.000000    1.000000  "
      ]
     },
     "execution_count": 5,
     "metadata": {},
     "output_type": "execute_result"
    }
   ],
   "source": [
    "titanic.describe()"
   ]
  },
  {
   "cell_type": "code",
   "execution_count": 6,
   "metadata": {},
   "outputs": [
    {
     "data": {
      "text/plain": [
       "<matplotlib.axes._subplots.AxesSubplot at 0x70ea7ef6a0>"
      ]
     },
     "execution_count": 6,
     "metadata": {},
     "output_type": "execute_result"
    },
    {
     "data": {
      "image/png": "[encoded data removed]",
      "text/plain": [
       "<matplotlib.figure.Figure at 0x70ea7ef1d0>"
      ]
     },
     "metadata": {},
     "output_type": "display_data"
    }
   ],
   "source": [
    "sns.heatmap(titanic.corr(), cmap='coolwarm')"
   ]
  },
  {
   "cell_type": "code",
   "execution_count": 7,
   "metadata": {
    "collapsed": true
   },
   "outputs": [],
   "source": [
    "#Parch and SibSp correlated\n",
    "#Fare most correlated with survived, Pclass most negatively correlated"
   ]
  },
  {
   "cell_type": "code",
   "execution_count": 8,
   "metadata": {
    "collapsed": true
   },
   "outputs": [],
   "source": [
    "#Lets try and visualise the data"
   ]
  },
  {
   "cell_type": "code",
   "execution_count": 9,
   "metadata": {},
   "outputs": [
    {
     "data": {
      "text/plain": [
       "<matplotlib.axes._subplots.AxesSubplot at 0x70ea7ef630>"
      ]
     },
     "execution_count": 9,
     "metadata": {},
     "output_type": "execute_result"
    },
    {
     "data": {
      "image/png": "[encoded data removed]",
      "text/plain": [
       "<matplotlib.figure.Figure at 0x70ea8ffef0>"
      ]
     },
     "metadata": {},
     "output_type": "display_data"
    }
   ],
   "source": [
    "titanic.Age.plot(kind='hist',title='Passengers Ages', bins=20)"
   ]
  },
  {
   "cell_type": "code",
   "execution_count": 10,
   "metadata": {
    "scrolled": false
   },
   "outputs": [
    {
     "data": {
      "text/plain": [
       "<seaborn.axisgrid.FacetGrid at 0x70eac180b8>"
      ]
     },
     "execution_count": 10,
     "metadata": {},
     "output_type": "execute_result"
    },
    {
     "data": {
      "image/png": "[encoded data removed]",
      "text/plain": [
       "<matplotlib.figure.Figure at 0x70eabf5a20>"
      ]
     },
     "metadata": {},
     "output_type": "display_data"
    }
   ],
   "source": [
    "fig1 = sns.FacetGrid(data=titanic,row='Sex',hue='Survived',size=6, aspect=3)\n",
    "fig1.map(sns.kdeplot,'Age',shade=True)\n",
    "fig1.set(xlim=(0,titanic['Age'].max()))\n",
    "sns.set(font_scale = 2)\n",
    "fig1.add_legend()"
   ]
  },
  {
   "cell_type": "code",
   "execution_count": 11,
   "metadata": {
    "collapsed": true
   },
   "outputs": [],
   "source": [
    "#There is separation, so should be possible to predict. \n",
    "#Less of a bump for surviving young females than males? "
   ]
  },
  {
   "cell_type": "code",
   "execution_count": 12,
   "metadata": {},
   "outputs": [
    {
     "data": {
      "text/plain": [
       "<seaborn.axisgrid.FacetGrid at 0x70ead0c358>"
      ]
     },
     "execution_count": 12,
     "metadata": {},
     "output_type": "execute_result"
    },
    {
     "data": {
      "image/png": "[encoded data removed]",
      "text/plain": [
       "<matplotlib.figure.Figure at 0x70eacebb00>"
      ]
     },
     "metadata": {},
     "output_type": "display_data"
    }
   ],
   "source": [
    "fig1 = sns.FacetGrid(data=titanic,row='Sex',hue='Survived',size=6, aspect=3)\n",
    "fig1.map(sns.kdeplot,'Fare',shade=True)\n",
    "fig1.set(xlim=(0,titanic['Fare'].max()))\n",
    "sns.set(font_scale = 2)\n",
    "fig1.add_legend()"
   ]
  },
  {
   "cell_type": "code",
   "execution_count": 13,
   "metadata": {
    "collapsed": true
   },
   "outputs": [],
   "source": [
    "#higher fare, higher chance of surviving it seems"
   ]
  },
  {
   "cell_type": "code",
   "execution_count": 14,
   "metadata": {},
   "outputs": [
    {
     "data": {
      "image/png": "[encoded data removed]",
      "text/plain": [
       "<matplotlib.figure.Figure at 0x70eb155b70>"
      ]
     },
     "metadata": {},
     "output_type": "display_data"
    }
   ],
   "source": [
    "fig2 = sns.FacetGrid(titanic, size=6)\n",
    "fig2.map(sns.barplot, 'Embarked', 'Survived')\n",
    "fig2.add_legend()\n",
    "sns.set(font_scale = 1.5)"
   ]
  },
  {
   "cell_type": "code",
   "execution_count": 15,
   "metadata": {},
   "outputs": [
    {
     "data": {
      "text/plain": [
       "<seaborn.axisgrid.FacetGrid at 0x70eb1177b8>"
      ]
     },
     "execution_count": 15,
     "metadata": {},
     "output_type": "execute_result"
    },
    {
     "data": {
      "image/png": "[encoded data removed]",
      "text/plain": [
       "<matplotlib.figure.Figure at 0x70eb140240>"
      ]
     },
     "metadata": {},
     "output_type": "display_data"
    }
   ],
   "source": [
    "fig3 = sns.FacetGrid(titanic, size=6)\n",
    "fig3.map(sns.barplot, 'Sex', 'Survived')\n",
    "fig3.add_legend()"
   ]
  },
  {
   "cell_type": "code",
   "execution_count": 16,
   "metadata": {},
   "outputs": [
    {
     "data": {
      "text/plain": [
       "<seaborn.axisgrid.FacetGrid at 0x70eb40beb8>"
      ]
     },
     "execution_count": 16,
     "metadata": {},
     "output_type": "execute_result"
    },
    {
     "data": {
      "image/png": "[encoded data removed]",
      "text/plain": [
       "<matplotlib.figure.Figure at 0x70ead0c828>"
      ]
     },
     "metadata": {},
     "output_type": "display_data"
    }
   ],
   "source": [
    "fig4 = sns.FacetGrid(titanic, size=6)\n",
    "fig4.map(sns.barplot, 'Pclass', 'Survived')\n",
    "fig4.add_legend()"
   ]
  },
  {
   "cell_type": "code",
   "execution_count": 17,
   "metadata": {},
   "outputs": [
    {
     "data": {
      "text/plain": [
       "<seaborn.axisgrid.FacetGrid at 0x70eb529390>"
      ]
     },
     "execution_count": 17,
     "metadata": {},
     "output_type": "execute_result"
    },
    {
     "data": {
      "image/png": "[encoded data removed]",
      "text/plain": [
       "<matplotlib.figure.Figure at 0x70eb4fefd0>"
      ]
     },
     "metadata": {},
     "output_type": "display_data"
    }
   ],
   "source": [
    "fig5 = sns.FacetGrid(titanic, size=6)\n",
    "fig5.map(sns.barplot, 'Parch', 'Survived')\n",
    "fig5.add_legend()"
   ]
  },
  {
   "cell_type": "code",
   "execution_count": 18,
   "metadata": {
    "collapsed": true
   },
   "outputs": [],
   "source": [
    "#ok, time to transform the data. First Sex into binary"
   ]
  },
  {
   "cell_type": "code",
   "execution_count": 19,
   "metadata": {
    "collapsed": true
   },
   "outputs": [],
   "source": [
    "sex = full['Sex'].replace(['male','female'],['1','0'])"
   ]
  },
  {
   "cell_type": "code",
   "execution_count": 20,
   "metadata": {
    "collapsed": true
   },
   "outputs": [],
   "source": [
    "#one hot encode Embarked and Pclass cols"
   ]
  },
  {
   "cell_type": "code",
   "execution_count": 21,
   "metadata": {},
   "outputs": [
    {
     "data": {
      "text/html": [
       "<div>\n",
       "<style>\n",
       "    .dataframe thead tr:only-child th {\n",
       "        text-align: right;\n",
       "    }\n",
       "\n",
       "    .dataframe thead th {\n",
       "        text-align: left;\n",
       "    }\n",
       "\n",
       "    .dataframe tbody tr th {\n",
       "        vertical-align: top;\n",
       "    }\n",
       "</style>\n",
       "<table border=\"1\" class=\"dataframe\">\n",
       "  <thead>\n",
       "    <tr style=\"text-align: right;\">\n",
       "      <th></th>\n",
       "      <th>Embarked_C</th>\n",
       "      <th>Embarked_Q</th>\n",
       "      <th>Embarked_S</th>\n",
       "    </tr>\n",
       "  </thead>\n",
       "  <tbody>\n",
       "    <tr>\n",
       "      <th>0</th>\n",
       "      <td>0</td>\n",
       "      <td>0</td>\n",
       "      <td>1</td>\n",
       "    </tr>\n",
       "    <tr>\n",
       "      <th>1</th>\n",
       "      <td>1</td>\n",
       "      <td>0</td>\n",
       "      <td>0</td>\n",
       "    </tr>\n",
       "    <tr>\n",
       "      <th>2</th>\n",
       "      <td>0</td>\n",
       "      <td>0</td>\n",
       "      <td>1</td>\n",
       "    </tr>\n",
       "    <tr>\n",
       "      <th>3</th>\n",
       "      <td>0</td>\n",
       "      <td>0</td>\n",
       "      <td>1</td>\n",
       "    </tr>\n",
       "    <tr>\n",
       "      <th>4</th>\n",
       "      <td>0</td>\n",
       "      <td>0</td>\n",
       "      <td>1</td>\n",
       "    </tr>\n",
       "  </tbody>\n",
       "</table>\n",
       "</div>"
      ],
      "text/plain": [
       "   Embarked_C  Embarked_Q  Embarked_S\n",
       "0           0           0           1\n",
       "1           1           0           0\n",
       "2           0           0           1\n",
       "3           0           0           1\n",
       "4           0           0           1"
      ]
     },
     "execution_count": 21,
     "metadata": {},
     "output_type": "execute_result"
    }
   ],
   "source": [
    "embarked = pd.get_dummies(full.Embarked, prefix='Embarked')\n",
    "embarked.head()"
   ]
  },
  {
   "cell_type": "code",
   "execution_count": 22,
   "metadata": {},
   "outputs": [
    {
     "data": {
      "text/html": [
       "<div>\n",
       "<style>\n",
       "    .dataframe thead tr:only-child th {\n",
       "        text-align: right;\n",
       "    }\n",
       "\n",
       "    .dataframe thead th {\n",
       "        text-align: left;\n",
       "    }\n",
       "\n",
       "    .dataframe tbody tr th {\n",
       "        vertical-align: top;\n",
       "    }\n",
       "</style>\n",
       "<table border=\"1\" class=\"dataframe\">\n",
       "  <thead>\n",
       "    <tr style=\"text-align: right;\">\n",
       "      <th></th>\n",
       "      <th>Pclass_1</th>\n",
       "      <th>Pclass_2</th>\n",
       "      <th>Pclass_3</th>\n",
       "    </tr>\n",
       "  </thead>\n",
       "  <tbody>\n",
       "    <tr>\n",
       "      <th>0</th>\n",
       "      <td>0</td>\n",
       "      <td>0</td>\n",
       "      <td>1</td>\n",
       "    </tr>\n",
       "    <tr>\n",
       "      <th>1</th>\n",
       "      <td>1</td>\n",
       "      <td>0</td>\n",
       "      <td>0</td>\n",
       "    </tr>\n",
       "    <tr>\n",
       "      <th>2</th>\n",
       "      <td>0</td>\n",
       "      <td>0</td>\n",
       "      <td>1</td>\n",
       "    </tr>\n",
       "    <tr>\n",
       "      <th>3</th>\n",
       "      <td>1</td>\n",
       "      <td>0</td>\n",
       "      <td>0</td>\n",
       "    </tr>\n",
       "    <tr>\n",
       "      <th>4</th>\n",
       "      <td>0</td>\n",
       "      <td>0</td>\n",
       "      <td>1</td>\n",
       "    </tr>\n",
       "  </tbody>\n",
       "</table>\n",
       "</div>"
      ],
      "text/plain": [
       "   Pclass_1  Pclass_2  Pclass_3\n",
       "0         0         0         1\n",
       "1         1         0         0\n",
       "2         0         0         1\n",
       "3         1         0         0\n",
       "4         0         0         1"
      ]
     },
     "execution_count": 22,
     "metadata": {},
     "output_type": "execute_result"
    }
   ],
   "source": [
    "pclass = pd.get_dummies(full.Pclass, prefix='Pclass')\n",
    "pclass.head()"
   ]
  },
  {
   "cell_type": "code",
   "execution_count": 23,
   "metadata": {
    "collapsed": true
   },
   "outputs": [],
   "source": [
    "#Time to deal with missing values, lets impute missing ages and fares with mean"
   ]
  },
  {
   "cell_type": "code",
   "execution_count": 24,
   "metadata": {},
   "outputs": [
    {
     "data": {
      "text/html": [
       "<div>\n",
       "<style>\n",
       "    .dataframe thead tr:only-child th {\n",
       "        text-align: right;\n",
       "    }\n",
       "\n",
       "    .dataframe thead th {\n",
       "        text-align: left;\n",
       "    }\n",
       "\n",
       "    .dataframe tbody tr th {\n",
       "        vertical-align: top;\n",
       "    }\n",
       "</style>\n",
       "<table border=\"1\" class=\"dataframe\">\n",
       "  <thead>\n",
       "    <tr style=\"text-align: right;\">\n",
       "      <th></th>\n",
       "      <th>Age</th>\n",
       "      <th>Fare</th>\n",
       "    </tr>\n",
       "  </thead>\n",
       "  <tbody>\n",
       "    <tr>\n",
       "      <th>0</th>\n",
       "      <td>22.0</td>\n",
       "      <td>7.2500</td>\n",
       "    </tr>\n",
       "    <tr>\n",
       "      <th>1</th>\n",
       "      <td>38.0</td>\n",
       "      <td>71.2833</td>\n",
       "    </tr>\n",
       "    <tr>\n",
       "      <th>2</th>\n",
       "      <td>26.0</td>\n",
       "      <td>7.9250</td>\n",
       "    </tr>\n",
       "    <tr>\n",
       "      <th>3</th>\n",
       "      <td>35.0</td>\n",
       "      <td>53.1000</td>\n",
       "    </tr>\n",
       "    <tr>\n",
       "      <th>4</th>\n",
       "      <td>35.0</td>\n",
       "      <td>8.0500</td>\n",
       "    </tr>\n",
       "  </tbody>\n",
       "</table>\n",
       "</div>"
      ],
      "text/plain": [
       "    Age     Fare\n",
       "0  22.0   7.2500\n",
       "1  38.0  71.2833\n",
       "2  26.0   7.9250\n",
       "3  35.0  53.1000\n",
       "4  35.0   8.0500"
      ]
     },
     "execution_count": 24,
     "metadata": {},
     "output_type": "execute_result"
    }
   ],
   "source": [
    "imputed = pd.DataFrame()\n",
    "\n",
    "imputed['Age'] = full.Age.fillna(full.Age.mean())\n",
    "imputed['Fare'] = full.Fare.fillna(full.Fare.mean())\n",
    "\n",
    "imputed.head()"
   ]
  },
  {
   "cell_type": "code",
   "execution_count": 25,
   "metadata": {},
   "outputs": [
    {
     "data": {
      "text/html": [
       "<div>\n",
       "<style>\n",
       "    .dataframe thead tr:only-child th {\n",
       "        text-align: right;\n",
       "    }\n",
       "\n",
       "    .dataframe thead th {\n",
       "        text-align: left;\n",
       "    }\n",
       "\n",
       "    .dataframe tbody tr th {\n",
       "        vertical-align: top;\n",
       "    }\n",
       "</style>\n",
       "<table border=\"1\" class=\"dataframe\">\n",
       "  <thead>\n",
       "    <tr style=\"text-align: right;\">\n",
       "      <th></th>\n",
       "      <th>Title</th>\n",
       "    </tr>\n",
       "  </thead>\n",
       "  <tbody>\n",
       "    <tr>\n",
       "      <th>0</th>\n",
       "      <td>Mr</td>\n",
       "    </tr>\n",
       "    <tr>\n",
       "      <th>1</th>\n",
       "      <td>Mrs</td>\n",
       "    </tr>\n",
       "    <tr>\n",
       "      <th>2</th>\n",
       "      <td>Miss</td>\n",
       "    </tr>\n",
       "    <tr>\n",
       "      <th>3</th>\n",
       "      <td>Mrs</td>\n",
       "    </tr>\n",
       "    <tr>\n",
       "      <th>4</th>\n",
       "      <td>Mr</td>\n",
       "    </tr>\n",
       "  </tbody>\n",
       "</table>\n",
       "</div>"
      ],
      "text/plain": [
       "  Title\n",
       "0    Mr\n",
       "1   Mrs\n",
       "2  Miss\n",
       "3   Mrs\n",
       "4    Mr"
      ]
     },
     "execution_count": 25,
     "metadata": {},
     "output_type": "execute_result"
    }
   ],
   "source": [
    "#Feature engineering. Start with title, could reflect social status\n",
    "\n",
    "title = pd.DataFrame()\n",
    "\n",
    "title['Title'] = full['Name'].map(lambda x: x.split(',')[1].split('.')[0].strip())\n",
    "title.head()"
   ]
  },
  {
   "cell_type": "code",
   "execution_count": 26,
   "metadata": {},
   "outputs": [
    {
     "data": {
      "text/plain": [
       "{'Capt',\n",
       " 'Col',\n",
       " 'Don',\n",
       " 'Dona',\n",
       " 'Dr',\n",
       " 'Jonkheer',\n",
       " 'Lady',\n",
       " 'Major',\n",
       " 'Master',\n",
       " 'Miss',\n",
       " 'Mlle',\n",
       " 'Mme',\n",
       " 'Mr',\n",
       " 'Mrs',\n",
       " 'Ms',\n",
       " 'Rev',\n",
       " 'Sir',\n",
       " 'the Countess'}"
      ]
     },
     "execution_count": 26,
     "metadata": {},
     "output_type": "execute_result"
    }
   ],
   "source": [
    "set(title['Title'])"
   ]
  },
  {
   "cell_type": "code",
   "execution_count": 27,
   "metadata": {
    "collapsed": true
   },
   "outputs": [],
   "source": [
    "#some special titles there, lets use a dictionary to map them all \n",
    "Title_Dictionary = {\n",
    "                    \"Capt\":       \"Officer\",\n",
    "                    \"Col\":        \"Officer\",\n",
    "                    \"Major\":      \"Officer\",\n",
    "                    \"Jonkheer\":   \"Royalty\",\n",
    "                    \"Don\":        \"Royalty\",\n",
    "                    \"Sir\" :       \"Royalty\",\n",
    "                    \"Dr\":         \"Officer\",\n",
    "                    \"Rev\":        \"Officer\",\n",
    "                    \"the Countess\":\"Royalty\",\n",
    "                    \"Dona\":       \"Royalty\",\n",
    "                    \"Mme\":        \"Mrs\",\n",
    "                    \"Mlle\":       \"Miss\",\n",
    "                    \"Ms\":         \"Mrs\",\n",
    "                    \"Mr\" :        \"Mr\",\n",
    "                    \"Mrs\" :       \"Mrs\",\n",
    "                    \"Miss\" :      \"Miss\",\n",
    "                    \"Master\" :    \"Master\",\n",
    "                    \"Lady\" :      \"Royalty\"\n",
    "}"
   ]
  },
  {
   "cell_type": "code",
   "execution_count": 28,
   "metadata": {},
   "outputs": [
    {
     "data": {
      "text/html": [
       "<div>\n",
       "<style>\n",
       "    .dataframe thead tr:only-child th {\n",
       "        text-align: right;\n",
       "    }\n",
       "\n",
       "    .dataframe thead th {\n",
       "        text-align: left;\n",
       "    }\n",
       "\n",
       "    .dataframe tbody tr th {\n",
       "        vertical-align: top;\n",
       "    }\n",
       "</style>\n",
       "<table border=\"1\" class=\"dataframe\">\n",
       "  <thead>\n",
       "    <tr style=\"text-align: right;\">\n",
       "      <th></th>\n",
       "      <th>Master</th>\n",
       "      <th>Miss</th>\n",
       "      <th>Mr</th>\n",
       "      <th>Mrs</th>\n",
       "      <th>Officer</th>\n",
       "      <th>Royalty</th>\n",
       "    </tr>\n",
       "  </thead>\n",
       "  <tbody>\n",
       "    <tr>\n",
       "      <th>0</th>\n",
       "      <td>0</td>\n",
       "      <td>0</td>\n",
       "      <td>1</td>\n",
       "      <td>0</td>\n",
       "      <td>0</td>\n",
       "      <td>0</td>\n",
       "    </tr>\n",
       "    <tr>\n",
       "      <th>1</th>\n",
       "      <td>0</td>\n",
       "      <td>0</td>\n",
       "      <td>0</td>\n",
       "      <td>1</td>\n",
       "      <td>0</td>\n",
       "      <td>0</td>\n",
       "    </tr>\n",
       "    <tr>\n",
       "      <th>2</th>\n",
       "      <td>0</td>\n",
       "      <td>1</td>\n",
       "      <td>0</td>\n",
       "      <td>0</td>\n",
       "      <td>0</td>\n",
       "      <td>0</td>\n",
       "    </tr>\n",
       "    <tr>\n",
       "      <th>3</th>\n",
       "      <td>0</td>\n",
       "      <td>0</td>\n",
       "      <td>0</td>\n",
       "      <td>1</td>\n",
       "      <td>0</td>\n",
       "      <td>0</td>\n",
       "    </tr>\n",
       "    <tr>\n",
       "      <th>4</th>\n",
       "      <td>0</td>\n",
       "      <td>0</td>\n",
       "      <td>1</td>\n",
       "      <td>0</td>\n",
       "      <td>0</td>\n",
       "      <td>0</td>\n",
       "    </tr>\n",
       "  </tbody>\n",
       "</table>\n",
       "</div>"
      ],
      "text/plain": [
       "   Master  Miss  Mr  Mrs  Officer  Royalty\n",
       "0       0     0   1    0        0        0\n",
       "1       0     0   0    1        0        0\n",
       "2       0     1   0    0        0        0\n",
       "3       0     0   0    1        0        0\n",
       "4       0     0   1    0        0        0"
      ]
     },
     "execution_count": 28,
     "metadata": {},
     "output_type": "execute_result"
    }
   ],
   "source": [
    "title['Title'] = title.Title.map(Title_Dictionary)\n",
    "title = pd.get_dummies(title.Title)\n",
    "title.head()"
   ]
  },
  {
   "cell_type": "code",
   "execution_count": 29,
   "metadata": {},
   "outputs": [
    {
     "data": {
      "text/html": [
       "<div>\n",
       "<style>\n",
       "    .dataframe thead tr:only-child th {\n",
       "        text-align: right;\n",
       "    }\n",
       "\n",
       "    .dataframe thead th {\n",
       "        text-align: left;\n",
       "    }\n",
       "\n",
       "    .dataframe tbody tr th {\n",
       "        vertical-align: top;\n",
       "    }\n",
       "</style>\n",
       "<table border=\"1\" class=\"dataframe\">\n",
       "  <thead>\n",
       "    <tr style=\"text-align: right;\">\n",
       "      <th></th>\n",
       "      <th>Cabin_A</th>\n",
       "      <th>Cabin_B</th>\n",
       "      <th>Cabin_C</th>\n",
       "      <th>Cabin_D</th>\n",
       "      <th>Cabin_E</th>\n",
       "      <th>Cabin_F</th>\n",
       "      <th>Cabin_G</th>\n",
       "      <th>Cabin_T</th>\n",
       "      <th>Cabin_U</th>\n",
       "    </tr>\n",
       "  </thead>\n",
       "  <tbody>\n",
       "    <tr>\n",
       "      <th>0</th>\n",
       "      <td>0</td>\n",
       "      <td>0</td>\n",
       "      <td>0</td>\n",
       "      <td>0</td>\n",
       "      <td>0</td>\n",
       "      <td>0</td>\n",
       "      <td>0</td>\n",
       "      <td>0</td>\n",
       "      <td>1</td>\n",
       "    </tr>\n",
       "    <tr>\n",
       "      <th>1</th>\n",
       "      <td>0</td>\n",
       "      <td>0</td>\n",
       "      <td>1</td>\n",
       "      <td>0</td>\n",
       "      <td>0</td>\n",
       "      <td>0</td>\n",
       "      <td>0</td>\n",
       "      <td>0</td>\n",
       "      <td>0</td>\n",
       "    </tr>\n",
       "    <tr>\n",
       "      <th>2</th>\n",
       "      <td>0</td>\n",
       "      <td>0</td>\n",
       "      <td>0</td>\n",
       "      <td>0</td>\n",
       "      <td>0</td>\n",
       "      <td>0</td>\n",
       "      <td>0</td>\n",
       "      <td>0</td>\n",
       "      <td>1</td>\n",
       "    </tr>\n",
       "    <tr>\n",
       "      <th>3</th>\n",
       "      <td>0</td>\n",
       "      <td>0</td>\n",
       "      <td>1</td>\n",
       "      <td>0</td>\n",
       "      <td>0</td>\n",
       "      <td>0</td>\n",
       "      <td>0</td>\n",
       "      <td>0</td>\n",
       "      <td>0</td>\n",
       "    </tr>\n",
       "    <tr>\n",
       "      <th>4</th>\n",
       "      <td>0</td>\n",
       "      <td>0</td>\n",
       "      <td>0</td>\n",
       "      <td>0</td>\n",
       "      <td>0</td>\n",
       "      <td>0</td>\n",
       "      <td>0</td>\n",
       "      <td>0</td>\n",
       "      <td>1</td>\n",
       "    </tr>\n",
       "  </tbody>\n",
       "</table>\n",
       "</div>"
      ],
      "text/plain": [
       "   Cabin_A  Cabin_B  Cabin_C  Cabin_D  Cabin_E  Cabin_F  Cabin_G  Cabin_T  \\\n",
       "0        0        0        0        0        0        0        0        0   \n",
       "1        0        0        1        0        0        0        0        0   \n",
       "2        0        0        0        0        0        0        0        0   \n",
       "3        0        0        1        0        0        0        0        0   \n",
       "4        0        0        0        0        0        0        0        0   \n",
       "\n",
       "   Cabin_U  \n",
       "0        1  \n",
       "1        0  \n",
       "2        1  \n",
       "3        0  \n",
       "4        1  "
      ]
     },
     "execution_count": 29,
     "metadata": {},
     "output_type": "execute_result"
    }
   ],
   "source": [
    "#extracting cabin data. Need an Unknown class too.\n",
    "\n",
    "cabin = pd.DataFrame()\n",
    "cabin['Cabin'] = full.Cabin.fillna('U')\n",
    "cabin['Cabin'] = cabin['Cabin'].map(lambda x: x[0])\n",
    "cabin = pd.get_dummies(cabin.Cabin, prefix = 'Cabin')\n",
    "cabin.head()"
   ]
  },
  {
   "cell_type": "code",
   "execution_count": 30,
   "metadata": {
    "collapsed": true
   },
   "outputs": [],
   "source": [
    "#extract ticket class from ticket number"
   ]
  },
  {
   "cell_type": "code",
   "execution_count": 31,
   "metadata": {
    "collapsed": true
   },
   "outputs": [],
   "source": [
    "#a helper function that extracts the ticket prefix, returns 'XXX' if no prefix\n",
    "def cleanTicket(ticket):\n",
    "    ticket = ticket.replace('.','')\n",
    "    ticket = ticket.replace('/','')\n",
    "    ticket = ticket.split()\n",
    "    ticket = map(lambda x: x.strip(), ticket)\n",
    "    ticket = list(filter(lambda x: not x.isdigit(), ticket))\n",
    "    if len(ticket) > 0:\n",
    "        return ticket[0]\n",
    "    else:\n",
    "        return 'XXX'"
   ]
  },
  {
   "cell_type": "code",
   "execution_count": 32,
   "metadata": {},
   "outputs": [
    {
     "data": {
      "text/html": [
       "<div>\n",
       "<style>\n",
       "    .dataframe thead tr:only-child th {\n",
       "        text-align: right;\n",
       "    }\n",
       "\n",
       "    .dataframe thead th {\n",
       "        text-align: left;\n",
       "    }\n",
       "\n",
       "    .dataframe tbody tr th {\n",
       "        vertical-align: top;\n",
       "    }\n",
       "</style>\n",
       "<table border=\"1\" class=\"dataframe\">\n",
       "  <thead>\n",
       "    <tr style=\"text-align: right;\">\n",
       "      <th></th>\n",
       "      <th>Ticket_A</th>\n",
       "      <th>Ticket_A4</th>\n",
       "      <th>Ticket_A5</th>\n",
       "      <th>Ticket_AQ3</th>\n",
       "      <th>Ticket_AQ4</th>\n",
       "      <th>Ticket_AS</th>\n",
       "      <th>Ticket_C</th>\n",
       "      <th>Ticket_CA</th>\n",
       "      <th>Ticket_CASOTON</th>\n",
       "      <th>Ticket_FC</th>\n",
       "      <th>...</th>\n",
       "      <th>Ticket_SOTONO2</th>\n",
       "      <th>Ticket_SOTONOQ</th>\n",
       "      <th>Ticket_SP</th>\n",
       "      <th>Ticket_STONO</th>\n",
       "      <th>Ticket_STONO2</th>\n",
       "      <th>Ticket_STONOQ</th>\n",
       "      <th>Ticket_SWPP</th>\n",
       "      <th>Ticket_WC</th>\n",
       "      <th>Ticket_WEP</th>\n",
       "      <th>Ticket_XXX</th>\n",
       "    </tr>\n",
       "  </thead>\n",
       "  <tbody>\n",
       "    <tr>\n",
       "      <th>0</th>\n",
       "      <td>0</td>\n",
       "      <td>0</td>\n",
       "      <td>1</td>\n",
       "      <td>0</td>\n",
       "      <td>0</td>\n",
       "      <td>0</td>\n",
       "      <td>0</td>\n",
       "      <td>0</td>\n",
       "      <td>0</td>\n",
       "      <td>0</td>\n",
       "      <td>...</td>\n",
       "      <td>0</td>\n",
       "      <td>0</td>\n",
       "      <td>0</td>\n",
       "      <td>0</td>\n",
       "      <td>0</td>\n",
       "      <td>0</td>\n",
       "      <td>0</td>\n",
       "      <td>0</td>\n",
       "      <td>0</td>\n",
       "      <td>0</td>\n",
       "    </tr>\n",
       "    <tr>\n",
       "      <th>1</th>\n",
       "      <td>0</td>\n",
       "      <td>0</td>\n",
       "      <td>0</td>\n",
       "      <td>0</td>\n",
       "      <td>0</td>\n",
       "      <td>0</td>\n",
       "      <td>0</td>\n",
       "      <td>0</td>\n",
       "      <td>0</td>\n",
       "      <td>0</td>\n",
       "      <td>...</td>\n",
       "      <td>0</td>\n",
       "      <td>0</td>\n",
       "      <td>0</td>\n",
       "      <td>0</td>\n",
       "      <td>0</td>\n",
       "      <td>0</td>\n",
       "      <td>0</td>\n",
       "      <td>0</td>\n",
       "      <td>0</td>\n",
       "      <td>0</td>\n",
       "    </tr>\n",
       "    <tr>\n",
       "      <th>2</th>\n",
       "      <td>0</td>\n",
       "      <td>0</td>\n",
       "      <td>0</td>\n",
       "      <td>0</td>\n",
       "      <td>0</td>\n",
       "      <td>0</td>\n",
       "      <td>0</td>\n",
       "      <td>0</td>\n",
       "      <td>0</td>\n",
       "      <td>0</td>\n",
       "      <td>...</td>\n",
       "      <td>0</td>\n",
       "      <td>0</td>\n",
       "      <td>0</td>\n",
       "      <td>0</td>\n",
       "      <td>1</td>\n",
       "      <td>0</td>\n",
       "      <td>0</td>\n",
       "      <td>0</td>\n",
       "      <td>0</td>\n",
       "      <td>0</td>\n",
       "    </tr>\n",
       "    <tr>\n",
       "      <th>3</th>\n",
       "      <td>0</td>\n",
       "      <td>0</td>\n",
       "      <td>0</td>\n",
       "      <td>0</td>\n",
       "      <td>0</td>\n",
       "      <td>0</td>\n",
       "      <td>0</td>\n",
       "      <td>0</td>\n",
       "      <td>0</td>\n",
       "      <td>0</td>\n",
       "      <td>...</td>\n",
       "      <td>0</td>\n",
       "      <td>0</td>\n",
       "      <td>0</td>\n",
       "      <td>0</td>\n",
       "      <td>0</td>\n",
       "      <td>0</td>\n",
       "      <td>0</td>\n",
       "      <td>0</td>\n",
       "      <td>0</td>\n",
       "      <td>1</td>\n",
       "    </tr>\n",
       "    <tr>\n",
       "      <th>4</th>\n",
       "      <td>0</td>\n",
       "      <td>0</td>\n",
       "      <td>0</td>\n",
       "      <td>0</td>\n",
       "      <td>0</td>\n",
       "      <td>0</td>\n",
       "      <td>0</td>\n",
       "      <td>0</td>\n",
       "      <td>0</td>\n",
       "      <td>0</td>\n",
       "      <td>...</td>\n",
       "      <td>0</td>\n",
       "      <td>0</td>\n",
       "      <td>0</td>\n",
       "      <td>0</td>\n",
       "      <td>0</td>\n",
       "      <td>0</td>\n",
       "      <td>0</td>\n",
       "      <td>0</td>\n",
       "      <td>0</td>\n",
       "      <td>1</td>\n",
       "    </tr>\n",
       "  </tbody>\n",
       "</table>\n",
       "<p>5 rows × 37 columns</p>\n",
       "</div>"
      ],
      "text/plain": [
       "   Ticket_A  Ticket_A4  Ticket_A5  Ticket_AQ3  Ticket_AQ4  Ticket_AS  \\\n",
       "0         0          0          1           0           0          0   \n",
       "1         0          0          0           0           0          0   \n",
       "2         0          0          0           0           0          0   \n",
       "3         0          0          0           0           0          0   \n",
       "4         0          0          0           0           0          0   \n",
       "\n",
       "   Ticket_C  Ticket_CA  Ticket_CASOTON  Ticket_FC     ...      Ticket_SOTONO2  \\\n",
       "0         0          0               0          0     ...                   0   \n",
       "1         0          0               0          0     ...                   0   \n",
       "2         0          0               0          0     ...                   0   \n",
       "3         0          0               0          0     ...                   0   \n",
       "4         0          0               0          0     ...                   0   \n",
       "\n",
       "   Ticket_SOTONOQ  Ticket_SP  Ticket_STONO  Ticket_STONO2  Ticket_STONOQ  \\\n",
       "0               0          0             0              0              0   \n",
       "1               0          0             0              0              0   \n",
       "2               0          0             0              1              0   \n",
       "3               0          0             0              0              0   \n",
       "4               0          0             0              0              0   \n",
       "\n",
       "   Ticket_SWPP  Ticket_WC  Ticket_WEP  Ticket_XXX  \n",
       "0            0          0           0           0  \n",
       "1            0          0           0           0  \n",
       "2            0          0           0           0  \n",
       "3            0          0           0           1  \n",
       "4            0          0           0           1  \n",
       "\n",
       "[5 rows x 37 columns]"
      ]
     },
     "execution_count": 32,
     "metadata": {},
     "output_type": "execute_result"
    }
   ],
   "source": [
    "ticket = pd.DataFrame()\n",
    "ticket['Ticket'] = full['Ticket'].map(cleanTicket)\n",
    "ticket = pd.get_dummies(ticket['Ticket'], prefix='Ticket')\n",
    "ticket.shape\n",
    "ticket.head()"
   ]
  },
  {
   "cell_type": "code",
   "execution_count": 33,
   "metadata": {
    "collapsed": true
   },
   "outputs": [],
   "source": [
    "#Multiple cols are related to family size. Lets make one family size col"
   ]
  },
  {
   "cell_type": "code",
   "execution_count": 34,
   "metadata": {
    "collapsed": true
   },
   "outputs": [],
   "source": [
    "family = pd.DataFrame()\n",
    "\n",
    "family['FamilySize'] = full['Parch'] + full['SibSp'] + 1\n",
    "    #Including passenger themselves"
   ]
  },
  {
   "cell_type": "code",
   "execution_count": 35,
   "metadata": {
    "collapsed": true
   },
   "outputs": [],
   "source": [
    "#helper function to split families into size groups"
   ]
  },
  {
   "cell_type": "code",
   "execution_count": 36,
   "metadata": {
    "collapsed": true
   },
   "outputs": [],
   "source": [
    "def FamilySize(n):\n",
    "    if n == 1:\n",
    "        return 'Single'\n",
    "    elif 2 <= n <= 4:\n",
    "        return 'Small'\n",
    "    else:\n",
    "        return 'Large'"
   ]
  },
  {
   "cell_type": "code",
   "execution_count": 37,
   "metadata": {},
   "outputs": [
    {
     "data": {
      "text/html": [
       "<div>\n",
       "<style>\n",
       "    .dataframe thead tr:only-child th {\n",
       "        text-align: right;\n",
       "    }\n",
       "\n",
       "    .dataframe thead th {\n",
       "        text-align: left;\n",
       "    }\n",
       "\n",
       "    .dataframe tbody tr th {\n",
       "        vertical-align: top;\n",
       "    }\n",
       "</style>\n",
       "<table border=\"1\" class=\"dataframe\">\n",
       "  <thead>\n",
       "    <tr style=\"text-align: right;\">\n",
       "      <th></th>\n",
       "      <th>Large</th>\n",
       "      <th>Single</th>\n",
       "      <th>Small</th>\n",
       "    </tr>\n",
       "  </thead>\n",
       "  <tbody>\n",
       "    <tr>\n",
       "      <th>0</th>\n",
       "      <td>0</td>\n",
       "      <td>0</td>\n",
       "      <td>1</td>\n",
       "    </tr>\n",
       "    <tr>\n",
       "      <th>1</th>\n",
       "      <td>0</td>\n",
       "      <td>0</td>\n",
       "      <td>1</td>\n",
       "    </tr>\n",
       "    <tr>\n",
       "      <th>2</th>\n",
       "      <td>0</td>\n",
       "      <td>1</td>\n",
       "      <td>0</td>\n",
       "    </tr>\n",
       "    <tr>\n",
       "      <th>3</th>\n",
       "      <td>0</td>\n",
       "      <td>0</td>\n",
       "      <td>1</td>\n",
       "    </tr>\n",
       "    <tr>\n",
       "      <th>4</th>\n",
       "      <td>0</td>\n",
       "      <td>1</td>\n",
       "      <td>0</td>\n",
       "    </tr>\n",
       "  </tbody>\n",
       "</table>\n",
       "</div>"
      ],
      "text/plain": [
       "   Large  Single  Small\n",
       "0      0       0      1\n",
       "1      0       0      1\n",
       "2      0       1      0\n",
       "3      0       0      1\n",
       "4      0       1      0"
      ]
     },
     "execution_count": 37,
     "metadata": {},
     "output_type": "execute_result"
    }
   ],
   "source": [
    "family['FamilySize'] = family['FamilySize'].map(FamilySize)\n",
    "family = pd.get_dummies(family.FamilySize)\n",
    "family.head()"
   ]
  },
  {
   "cell_type": "code",
   "execution_count": 38,
   "metadata": {
    "collapsed": true
   },
   "outputs": [],
   "source": [
    "#Making the new df with variables for machine learning algorithms\n",
    "# from imputed , embarked , pclass , sex , family , cabin , ticket"
   ]
  },
  {
   "cell_type": "code",
   "execution_count": 39,
   "metadata": {},
   "outputs": [
    {
     "data": {
      "text/html": [
       "<div>\n",
       "<style>\n",
       "    .dataframe thead tr:only-child th {\n",
       "        text-align: right;\n",
       "    }\n",
       "\n",
       "    .dataframe thead th {\n",
       "        text-align: left;\n",
       "    }\n",
       "\n",
       "    .dataframe tbody tr th {\n",
       "        vertical-align: top;\n",
       "    }\n",
       "</style>\n",
       "<table border=\"1\" class=\"dataframe\">\n",
       "  <thead>\n",
       "    <tr style=\"text-align: right;\">\n",
       "      <th></th>\n",
       "      <th>Age</th>\n",
       "      <th>Fare</th>\n",
       "      <th>Embarked_C</th>\n",
       "      <th>Embarked_Q</th>\n",
       "      <th>Embarked_S</th>\n",
       "      <th>Pclass_1</th>\n",
       "      <th>Pclass_2</th>\n",
       "      <th>Pclass_3</th>\n",
       "      <th>Sex</th>\n",
       "      <th>Large</th>\n",
       "      <th>...</th>\n",
       "      <th>Ticket_SWPP</th>\n",
       "      <th>Ticket_WC</th>\n",
       "      <th>Ticket_WEP</th>\n",
       "      <th>Ticket_XXX</th>\n",
       "      <th>Master</th>\n",
       "      <th>Miss</th>\n",
       "      <th>Mr</th>\n",
       "      <th>Mrs</th>\n",
       "      <th>Officer</th>\n",
       "      <th>Royalty</th>\n",
       "    </tr>\n",
       "  </thead>\n",
       "  <tbody>\n",
       "    <tr>\n",
       "      <th>0</th>\n",
       "      <td>22.0</td>\n",
       "      <td>7.2500</td>\n",
       "      <td>0</td>\n",
       "      <td>0</td>\n",
       "      <td>1</td>\n",
       "      <td>0</td>\n",
       "      <td>0</td>\n",
       "      <td>1</td>\n",
       "      <td>1</td>\n",
       "      <td>0</td>\n",
       "      <td>...</td>\n",
       "      <td>0</td>\n",
       "      <td>0</td>\n",
       "      <td>0</td>\n",
       "      <td>0</td>\n",
       "      <td>0</td>\n",
       "      <td>0</td>\n",
       "      <td>1</td>\n",
       "      <td>0</td>\n",
       "      <td>0</td>\n",
       "      <td>0</td>\n",
       "    </tr>\n",
       "    <tr>\n",
       "      <th>1</th>\n",
       "      <td>38.0</td>\n",
       "      <td>71.2833</td>\n",
       "      <td>1</td>\n",
       "      <td>0</td>\n",
       "      <td>0</td>\n",
       "      <td>1</td>\n",
       "      <td>0</td>\n",
       "      <td>0</td>\n",
       "      <td>0</td>\n",
       "      <td>0</td>\n",
       "      <td>...</td>\n",
       "      <td>0</td>\n",
       "      <td>0</td>\n",
       "      <td>0</td>\n",
       "      <td>0</td>\n",
       "      <td>0</td>\n",
       "      <td>0</td>\n",
       "      <td>0</td>\n",
       "      <td>1</td>\n",
       "      <td>0</td>\n",
       "      <td>0</td>\n",
       "    </tr>\n",
       "    <tr>\n",
       "      <th>2</th>\n",
       "      <td>26.0</td>\n",
       "      <td>7.9250</td>\n",
       "      <td>0</td>\n",
       "      <td>0</td>\n",
       "      <td>1</td>\n",
       "      <td>0</td>\n",
       "      <td>0</td>\n",
       "      <td>1</td>\n",
       "      <td>0</td>\n",
       "      <td>0</td>\n",
       "      <td>...</td>\n",
       "      <td>0</td>\n",
       "      <td>0</td>\n",
       "      <td>0</td>\n",
       "      <td>0</td>\n",
       "      <td>0</td>\n",
       "      <td>1</td>\n",
       "      <td>0</td>\n",
       "      <td>0</td>\n",
       "      <td>0</td>\n",
       "      <td>0</td>\n",
       "    </tr>\n",
       "    <tr>\n",
       "      <th>3</th>\n",
       "      <td>35.0</td>\n",
       "      <td>53.1000</td>\n",
       "      <td>0</td>\n",
       "      <td>0</td>\n",
       "      <td>1</td>\n",
       "      <td>1</td>\n",
       "      <td>0</td>\n",
       "      <td>0</td>\n",
       "      <td>0</td>\n",
       "      <td>0</td>\n",
       "      <td>...</td>\n",
       "      <td>0</td>\n",
       "      <td>0</td>\n",
       "      <td>0</td>\n",
       "      <td>1</td>\n",
       "      <td>0</td>\n",
       "      <td>0</td>\n",
       "      <td>0</td>\n",
       "      <td>1</td>\n",
       "      <td>0</td>\n",
       "      <td>0</td>\n",
       "    </tr>\n",
       "    <tr>\n",
       "      <th>4</th>\n",
       "      <td>35.0</td>\n",
       "      <td>8.0500</td>\n",
       "      <td>0</td>\n",
       "      <td>0</td>\n",
       "      <td>1</td>\n",
       "      <td>0</td>\n",
       "      <td>0</td>\n",
       "      <td>1</td>\n",
       "      <td>1</td>\n",
       "      <td>0</td>\n",
       "      <td>...</td>\n",
       "      <td>0</td>\n",
       "      <td>0</td>\n",
       "      <td>0</td>\n",
       "      <td>1</td>\n",
       "      <td>0</td>\n",
       "      <td>0</td>\n",
       "      <td>1</td>\n",
       "      <td>0</td>\n",
       "      <td>0</td>\n",
       "      <td>0</td>\n",
       "    </tr>\n",
       "  </tbody>\n",
       "</table>\n",
       "<p>5 rows × 64 columns</p>\n",
       "</div>"
      ],
      "text/plain": [
       "    Age     Fare  Embarked_C  Embarked_Q  Embarked_S  Pclass_1  Pclass_2  \\\n",
       "0  22.0   7.2500           0           0           1         0         0   \n",
       "1  38.0  71.2833           1           0           0         1         0   \n",
       "2  26.0   7.9250           0           0           1         0         0   \n",
       "3  35.0  53.1000           0           0           1         1         0   \n",
       "4  35.0   8.0500           0           0           1         0         0   \n",
       "\n",
       "   Pclass_3 Sex  Large   ...     Ticket_SWPP  Ticket_WC  Ticket_WEP  \\\n",
       "0         1   1      0   ...               0          0           0   \n",
       "1         0   0      0   ...               0          0           0   \n",
       "2         1   0      0   ...               0          0           0   \n",
       "3         0   0      0   ...               0          0           0   \n",
       "4         1   1      0   ...               0          0           0   \n",
       "\n",
       "   Ticket_XXX  Master  Miss  Mr  Mrs  Officer  Royalty  \n",
       "0           0       0     0   1    0        0        0  \n",
       "1           0       0     0   0    1        0        0  \n",
       "2           0       0     1   0    0        0        0  \n",
       "3           1       0     0   0    1        0        0  \n",
       "4           1       0     0   1    0        0        0  \n",
       "\n",
       "[5 rows x 64 columns]"
      ]
     },
     "execution_count": 39,
     "metadata": {},
     "output_type": "execute_result"
    }
   ],
   "source": [
    "full_X = pd.concat([imputed, embarked, pclass, sex, family, cabin, ticket, title],axis=1)\n",
    "full_X.head()"
   ]
  },
  {
   "cell_type": "code",
   "execution_count": 40,
   "metadata": {},
   "outputs": [
    {
     "name": "stdout",
     "output_type": "stream",
     "text": [
      "(1309, 64) (623, 64) (268, 64) (623,) (268,) (418, 64) (891, 64) (891,)\n"
     ]
    }
   ],
   "source": [
    "train_valid_X = full_X[0:891]\n",
    "train_valid_y = titanic.Survived\n",
    "test_X = full_X[891:]\n",
    "train_X, valid_X, train_y, valid_y = train_test_split(\n",
    "    train_valid_X, train_valid_y, test_size=0.3)\n",
    "\n",
    "combined_X = train_X.append(valid_X)\n",
    "combined_y = train_y.append(valid_y)\n",
    "\n",
    "print(full_X.shape, train_X.shape, valid_X.shape, train_y.shape, valid_y.shape, test_X.shape, combined_X.shape, combined_y.shape)"
   ]
  },
  {
   "cell_type": "code",
   "execution_count": 41,
   "metadata": {
    "collapsed": true
   },
   "outputs": [],
   "source": [
    "#Now to try some basic models. nb. Rewrote to change train/test split into kfold cross validation for consistency"
   ]
  },
  {
   "cell_type": "code",
   "execution_count": 42,
   "metadata": {
    "collapsed": true
   },
   "outputs": [],
   "source": [
    "model_acc = pd.DataFrame(columns=['basic_acc','revised_acc','tuned_acc','tuned_params','best_acc'])"
   ]
  },
  {
   "cell_type": "code",
   "execution_count": 43,
   "metadata": {},
   "outputs": [
    {
     "name": "stdout",
     "output_type": "stream",
     "text": [
      "train: 0.993579454254 test: 0.820895522388\n",
      "cv: 0.822676429106\n"
     ]
    }
   ],
   "source": [
    "name = 'rfc'\n",
    "model = RandomForestClassifier(n_estimators=100)\n",
    "model.fit(train_X, train_y)\n",
    "print('train:',model.score(train_X, train_y), \n",
    "      'test:',model.score(valid_X, valid_y))\n",
    "\n",
    "cv_score = cross_val_score(model, combined_X, combined_y, cv=5).mean()\n",
    "print('cv:',cv_score)\n",
    "\n",
    "model_acc.loc[name,'basic_acc']=cv_score"
   ]
  },
  {
   "cell_type": "code",
   "execution_count": 44,
   "metadata": {},
   "outputs": [
    {
     "name": "stdout",
     "output_type": "stream",
     "text": [
      "train: 0.91974317817 test: 0.839552238806\n",
      "cv: 0.830516773075\n"
     ]
    }
   ],
   "source": [
    "name = 'gbc'\n",
    "model = GradientBoostingClassifier()\n",
    "model.fit(train_X, train_y)\n",
    "print('train:',model.score(train_X, train_y), \n",
    "      'test:',model.score(valid_X, valid_y))\n",
    "\n",
    "cv_score = cross_val_score(model, combined_X, combined_y, cv=5).mean()\n",
    "print('cv:',cv_score)\n",
    "\n",
    "model_acc.loc[name,'basic_acc']=cv_score"
   ]
  },
  {
   "cell_type": "code",
   "execution_count": 45,
   "metadata": {},
   "outputs": [
    {
     "name": "stdout",
     "output_type": "stream",
     "text": [
      "train: 0.802568218299 test: 0.723880597015\n",
      "cv: 0.719398876582\n"
     ]
    }
   ],
   "source": [
    "name = 'knn'\n",
    "model = KNeighborsClassifier(n_neighbors=5)\n",
    "model.fit(train_X, train_y)\n",
    "print('train:',model.score(train_X, train_y), \n",
    "      'test:',model.score(valid_X, valid_y))\n",
    "\n",
    "cv_score = cross_val_score(model, combined_X, combined_y, cv=5).mean()\n",
    "print('cv:',cv_score)\n",
    "\n",
    "model_acc.loc[name,'basic_acc']=cv_score"
   ]
  },
  {
   "cell_type": "code",
   "execution_count": 46,
   "metadata": {},
   "outputs": [
    {
     "name": "stdout",
     "output_type": "stream",
     "text": [
      "train: 0.810593900482 test: 0.701492537313\n",
      "cv: 0.726127753621\n"
     ]
    }
   ],
   "source": [
    "name = 'svc'\n",
    "model = SVC()\n",
    "model.fit(train_X, train_y)\n",
    "print('train:',model.score(train_X, train_y), \n",
    "      'test:',model.score(valid_X, valid_y))\n",
    "\n",
    "cv_score = cross_val_score(model, combined_X, combined_y, cv=5).mean()\n",
    "print('cv:',cv_score)\n",
    "\n",
    "model_acc.loc[name,'basic_acc']=cv_score"
   ]
  },
  {
   "cell_type": "code",
   "execution_count": 47,
   "metadata": {},
   "outputs": [
    {
     "name": "stdout",
     "output_type": "stream",
     "text": [
      "train: 0.492776886035 test: 0.414179104478\n",
      "cv: 0.439927625739\n"
     ]
    }
   ],
   "source": [
    "name = 'nb'\n",
    "model = GaussianNB()\n",
    "model.fit(train_X, train_y)\n",
    "print('train:',model.score(train_X, train_y), \n",
    "      'test:',model.score(valid_X, valid_y))\n",
    "\n",
    "cv_score = cross_val_score(model, combined_X, combined_y, cv=5).mean()\n",
    "print('cv:',cv_score)\n",
    "\n",
    "model_acc.loc[name,'basic_acc']=cv_score"
   ]
  },
  {
   "cell_type": "code",
   "execution_count": 48,
   "metadata": {},
   "outputs": [
    {
     "data": {
      "text/plain": [
       "Text(0.5,1,'Basic model accuracy')"
      ]
     },
     "execution_count": 48,
     "metadata": {},
     "output_type": "execute_result"
    },
    {
     "data": {
      "image/png": "[encoded data removed]",
      "text/plain": [
       "<matplotlib.figure.Figure at 0x70eb5f9518>"
      ]
     },
     "metadata": {},
     "output_type": "display_data"
    }
   ],
   "source": [
    "model_acc.sort_values(by='basic_acc', ascending=False).basic_acc.plot(kind='bar', legend=False, rot=0)\n",
    "plt.title('Basic model accuracy')"
   ]
  },
  {
   "cell_type": "code",
   "execution_count": 49,
   "metadata": {
    "collapsed": true
   },
   "outputs": [],
   "source": [
    "#try to find importance of variables"
   ]
  },
  {
   "cell_type": "code",
   "execution_count": 50,
   "metadata": {
    "scrolled": true
   },
   "outputs": [
    {
     "name": "stdout",
     "output_type": "stream",
     "text": [
      "Tree train acc: 0.993579454254\n"
     ]
    },
    {
     "data": {
      "image/png": "[encoded data removed]",
      "text/plain": [
       "<matplotlib.figure.Figure at 0x70eacf6cc0>"
      ]
     },
     "metadata": {},
     "output_type": "display_data"
    }
   ],
   "source": [
    "tree = DecisionTreeClassifier(random_state=42)\n",
    "tree.fit(train_X, train_y)\n",
    "imp = pd.DataFrame(tree.feature_importances_,\n",
    "                         columns = ['Importance'],\n",
    "                         index = train_X.columns)\n",
    "imp = imp.sort_values(['Importance'], ascending=True)\n",
    "imp[-10:].plot(kind='barh', legend=False)\n",
    "plt.title('top 10 important variables for simple tree')\n",
    "print('Tree train acc:',tree.score(train_X, train_y))"
   ]
  },
  {
   "cell_type": "code",
   "execution_count": 51,
   "metadata": {
    "collapsed": true
   },
   "outputs": [],
   "source": [
    "#Investigating removal of some inputs. Seems ticket/embarked not all that important\n",
    "#maybe worth changing to has_cabin 1/0 and bagging ages?"
   ]
  },
  {
   "cell_type": "code",
   "execution_count": 52,
   "metadata": {},
   "outputs": [
    {
     "data": {
      "text/html": [
       "<div>\n",
       "<style>\n",
       "    .dataframe thead tr:only-child th {\n",
       "        text-align: right;\n",
       "    }\n",
       "\n",
       "    .dataframe thead th {\n",
       "        text-align: left;\n",
       "    }\n",
       "\n",
       "    .dataframe tbody tr th {\n",
       "        vertical-align: top;\n",
       "    }\n",
       "</style>\n",
       "<table border=\"1\" class=\"dataframe\">\n",
       "  <thead>\n",
       "    <tr style=\"text-align: right;\">\n",
       "      <th></th>\n",
       "      <th>Cabin_A</th>\n",
       "      <th>Cabin_B</th>\n",
       "      <th>Cabin_C</th>\n",
       "      <th>Cabin_D</th>\n",
       "      <th>Cabin_E</th>\n",
       "      <th>Cabin_F</th>\n",
       "      <th>Cabin_G</th>\n",
       "      <th>Cabin_T</th>\n",
       "      <th>No_cabin</th>\n",
       "    </tr>\n",
       "  </thead>\n",
       "  <tbody>\n",
       "    <tr>\n",
       "      <th>0</th>\n",
       "      <td>0</td>\n",
       "      <td>0</td>\n",
       "      <td>0</td>\n",
       "      <td>0</td>\n",
       "      <td>0</td>\n",
       "      <td>0</td>\n",
       "      <td>0</td>\n",
       "      <td>0</td>\n",
       "      <td>1</td>\n",
       "    </tr>\n",
       "    <tr>\n",
       "      <th>1</th>\n",
       "      <td>0</td>\n",
       "      <td>0</td>\n",
       "      <td>1</td>\n",
       "      <td>0</td>\n",
       "      <td>0</td>\n",
       "      <td>0</td>\n",
       "      <td>0</td>\n",
       "      <td>0</td>\n",
       "      <td>0</td>\n",
       "    </tr>\n",
       "    <tr>\n",
       "      <th>2</th>\n",
       "      <td>0</td>\n",
       "      <td>0</td>\n",
       "      <td>0</td>\n",
       "      <td>0</td>\n",
       "      <td>0</td>\n",
       "      <td>0</td>\n",
       "      <td>0</td>\n",
       "      <td>0</td>\n",
       "      <td>1</td>\n",
       "    </tr>\n",
       "    <tr>\n",
       "      <th>3</th>\n",
       "      <td>0</td>\n",
       "      <td>0</td>\n",
       "      <td>1</td>\n",
       "      <td>0</td>\n",
       "      <td>0</td>\n",
       "      <td>0</td>\n",
       "      <td>0</td>\n",
       "      <td>0</td>\n",
       "      <td>0</td>\n",
       "    </tr>\n",
       "    <tr>\n",
       "      <th>4</th>\n",
       "      <td>0</td>\n",
       "      <td>0</td>\n",
       "      <td>0</td>\n",
       "      <td>0</td>\n",
       "      <td>0</td>\n",
       "      <td>0</td>\n",
       "      <td>0</td>\n",
       "      <td>0</td>\n",
       "      <td>1</td>\n",
       "    </tr>\n",
       "  </tbody>\n",
       "</table>\n",
       "</div>"
      ],
      "text/plain": [
       "   Cabin_A  Cabin_B  Cabin_C  Cabin_D  Cabin_E  Cabin_F  Cabin_G  Cabin_T  \\\n",
       "0        0        0        0        0        0        0        0        0   \n",
       "1        0        0        1        0        0        0        0        0   \n",
       "2        0        0        0        0        0        0        0        0   \n",
       "3        0        0        1        0        0        0        0        0   \n",
       "4        0        0        0        0        0        0        0        0   \n",
       "\n",
       "   No_cabin  \n",
       "0         1  \n",
       "1         0  \n",
       "2         1  \n",
       "3         0  \n",
       "4         1  "
      ]
     },
     "execution_count": 52,
     "metadata": {},
     "output_type": "execute_result"
    }
   ],
   "source": [
    "cabin.rename(columns={'Cabin_U':'No_cabin'}, inplace=True)\n",
    "cabin.head()"
   ]
  },
  {
   "cell_type": "code",
   "execution_count": 53,
   "metadata": {},
   "outputs": [
    {
     "data": {
      "text/plain": [
       "0    4\n",
       "1    6\n",
       "2    5\n",
       "3    5\n",
       "4    5\n",
       "Name: Age, dtype: int32"
      ]
     },
     "execution_count": 53,
     "metadata": {},
     "output_type": "execute_result"
    }
   ],
   "source": [
    "age_bins = (-2, 0, 5, 12, 18, 25, 35, 60, 120)\n",
    "ag = [0,1,2,3,4,5,6,7]\n",
    "#age_groups = ['unknown', 'baby', 'child', 'teen', 'student','youngadult','adult','senior']\n",
    "age_split = pd.cut(full.Age.fillna(-1), age_bins, labels=ag).astype(int)\n",
    "age_split.head()"
   ]
  },
  {
   "cell_type": "code",
   "execution_count": 54,
   "metadata": {},
   "outputs": [
    {
     "data": {
      "text/plain": [
       "0    1\n",
       "1    4\n",
       "2    1\n",
       "3    4\n",
       "4    2\n",
       "Name: Fare, dtype: int32"
      ]
     },
     "execution_count": 54,
     "metadata": {},
     "output_type": "execute_result"
    }
   ],
   "source": [
    "fare_bins = (-2, 0, 8, 15, 31, 1000)\n",
    "fg = [0,1,2,3,4]\n",
    "fare_split = pd.cut(full.Fare.fillna(-1), fare_bins, labels=fg).astype(int)\n",
    "fare_split.head()"
   ]
  },
  {
   "cell_type": "code",
   "execution_count": 55,
   "metadata": {
    "collapsed": true
   },
   "outputs": [],
   "source": [
    "sex = sex.astype(int)"
   ]
  },
  {
   "cell_type": "code",
   "execution_count": 56,
   "metadata": {},
   "outputs": [
    {
     "data": {
      "text/html": [
       "<div>\n",
       "<style>\n",
       "    .dataframe thead tr:only-child th {\n",
       "        text-align: right;\n",
       "    }\n",
       "\n",
       "    .dataframe thead th {\n",
       "        text-align: left;\n",
       "    }\n",
       "\n",
       "    .dataframe tbody tr th {\n",
       "        vertical-align: top;\n",
       "    }\n",
       "</style>\n",
       "<table border=\"1\" class=\"dataframe\">\n",
       "  <thead>\n",
       "    <tr style=\"text-align: right;\">\n",
       "      <th></th>\n",
       "      <th>Age</th>\n",
       "      <th>Fare</th>\n",
       "      <th>Pclass_1</th>\n",
       "      <th>Pclass_2</th>\n",
       "      <th>Pclass_3</th>\n",
       "      <th>Sex</th>\n",
       "      <th>Large</th>\n",
       "      <th>Single</th>\n",
       "      <th>Small</th>\n",
       "      <th>Master</th>\n",
       "      <th>Miss</th>\n",
       "      <th>Mr</th>\n",
       "      <th>Mrs</th>\n",
       "      <th>Officer</th>\n",
       "      <th>Royalty</th>\n",
       "      <th>No_cabin</th>\n",
       "    </tr>\n",
       "  </thead>\n",
       "  <tbody>\n",
       "    <tr>\n",
       "      <th>0</th>\n",
       "      <td>4</td>\n",
       "      <td>1</td>\n",
       "      <td>0</td>\n",
       "      <td>0</td>\n",
       "      <td>1</td>\n",
       "      <td>1</td>\n",
       "      <td>0</td>\n",
       "      <td>0</td>\n",
       "      <td>1</td>\n",
       "      <td>0</td>\n",
       "      <td>0</td>\n",
       "      <td>1</td>\n",
       "      <td>0</td>\n",
       "      <td>0</td>\n",
       "      <td>0</td>\n",
       "      <td>1</td>\n",
       "    </tr>\n",
       "    <tr>\n",
       "      <th>1</th>\n",
       "      <td>6</td>\n",
       "      <td>4</td>\n",
       "      <td>1</td>\n",
       "      <td>0</td>\n",
       "      <td>0</td>\n",
       "      <td>0</td>\n",
       "      <td>0</td>\n",
       "      <td>0</td>\n",
       "      <td>1</td>\n",
       "      <td>0</td>\n",
       "      <td>0</td>\n",
       "      <td>0</td>\n",
       "      <td>1</td>\n",
       "      <td>0</td>\n",
       "      <td>0</td>\n",
       "      <td>0</td>\n",
       "    </tr>\n",
       "    <tr>\n",
       "      <th>2</th>\n",
       "      <td>5</td>\n",
       "      <td>1</td>\n",
       "      <td>0</td>\n",
       "      <td>0</td>\n",
       "      <td>1</td>\n",
       "      <td>0</td>\n",
       "      <td>0</td>\n",
       "      <td>1</td>\n",
       "      <td>0</td>\n",
       "      <td>0</td>\n",
       "      <td>1</td>\n",
       "      <td>0</td>\n",
       "      <td>0</td>\n",
       "      <td>0</td>\n",
       "      <td>0</td>\n",
       "      <td>1</td>\n",
       "    </tr>\n",
       "    <tr>\n",
       "      <th>3</th>\n",
       "      <td>5</td>\n",
       "      <td>4</td>\n",
       "      <td>1</td>\n",
       "      <td>0</td>\n",
       "      <td>0</td>\n",
       "      <td>0</td>\n",
       "      <td>0</td>\n",
       "      <td>0</td>\n",
       "      <td>1</td>\n",
       "      <td>0</td>\n",
       "      <td>0</td>\n",
       "      <td>0</td>\n",
       "      <td>1</td>\n",
       "      <td>0</td>\n",
       "      <td>0</td>\n",
       "      <td>0</td>\n",
       "    </tr>\n",
       "    <tr>\n",
       "      <th>4</th>\n",
       "      <td>5</td>\n",
       "      <td>2</td>\n",
       "      <td>0</td>\n",
       "      <td>0</td>\n",
       "      <td>1</td>\n",
       "      <td>1</td>\n",
       "      <td>0</td>\n",
       "      <td>1</td>\n",
       "      <td>0</td>\n",
       "      <td>0</td>\n",
       "      <td>0</td>\n",
       "      <td>1</td>\n",
       "      <td>0</td>\n",
       "      <td>0</td>\n",
       "      <td>0</td>\n",
       "      <td>1</td>\n",
       "    </tr>\n",
       "  </tbody>\n",
       "</table>\n",
       "</div>"
      ],
      "text/plain": [
       "   Age  Fare  Pclass_1  Pclass_2  Pclass_3  Sex  Large  Single  Small  Master  \\\n",
       "0    4     1         0         0         1    1      0       0      1       0   \n",
       "1    6     4         1         0         0    0      0       0      1       0   \n",
       "2    5     1         0         0         1    0      0       1      0       0   \n",
       "3    5     4         1         0         0    0      0       0      1       0   \n",
       "4    5     2         0         0         1    1      0       1      0       0   \n",
       "\n",
       "   Miss  Mr  Mrs  Officer  Royalty  No_cabin  \n",
       "0     0   1    0        0        0         1  \n",
       "1     0   0    1        0        0         0  \n",
       "2     1   0    0        0        0         1  \n",
       "3     0   0    1        0        0         0  \n",
       "4     0   1    0        0        0         1  "
      ]
     },
     "execution_count": 56,
     "metadata": {},
     "output_type": "execute_result"
    }
   ],
   "source": [
    "full_X = pd.concat([age_split, fare_split, pclass, sex, family, title, cabin['No_cabin']],axis=1)\n",
    "full_X.head()"
   ]
  },
  {
   "cell_type": "code",
   "execution_count": 57,
   "metadata": {},
   "outputs": [
    {
     "name": "stdout",
     "output_type": "stream",
     "text": [
      "(1309, 16) (623, 16) (268, 16) (623,) (268,) (418, 16) (891, 16) (891,)\n"
     ]
    }
   ],
   "source": [
    "train_valid_X = full_X[0:891]\n",
    "train_valid_y = titanic.Survived\n",
    "test_X = full_X[891:]\n",
    "train_X, valid_X, train_y, valid_y = train_test_split(\n",
    "    train_valid_X, train_valid_y, test_size=0.3)\n",
    "\n",
    "combined_X = train_X.append(valid_X)\n",
    "combined_y = train_y.append(valid_y)\n",
    "\n",
    "print(full_X.shape, train_X.shape, valid_X.shape, train_y.shape, valid_y.shape, test_X.shape, combined_X.shape, combined_y.shape)"
   ]
  },
  {
   "cell_type": "code",
   "execution_count": 58,
   "metadata": {
    "collapsed": true
   },
   "outputs": [],
   "source": [
    "#Redoing basic training with revised inputs"
   ]
  },
  {
   "cell_type": "code",
   "execution_count": 59,
   "metadata": {
    "collapsed": true
   },
   "outputs": [],
   "source": [
    "name = 'rfc'\n",
    "model = RandomForestClassifier(n_estimators=100)\n",
    "model.fit(train_X, train_y)\n",
    "cv_score = cross_val_score(model, combined_X, combined_y, cv=5).mean()\n",
    "model_acc.loc[name,'revised_acc']=cv_score\n",
    "\n",
    "name = 'gbc'\n",
    "model = GradientBoostingClassifier()\n",
    "model.fit(train_X, train_y)\n",
    "cv_score = cross_val_score(model, combined_X, combined_y, cv=5).mean()\n",
    "model_acc.loc[name,'revised_acc']=cv_score\n",
    "\n",
    "name = 'knn'\n",
    "model = KNeighborsClassifier(n_neighbors=5)\n",
    "model.fit(train_X, train_y)\n",
    "cv_score = cross_val_score(model, combined_X, combined_y, cv=5).mean()\n",
    "model_acc.loc[name,'revised_acc']=cv_score\n",
    "\n",
    "name = 'svc'\n",
    "model = SVC()\n",
    "model.fit(train_X, train_y)\n",
    "cv_score = cross_val_score(model, combined_X, combined_y, cv=5).mean()\n",
    "model_acc.loc[name,'revised_acc']=cv_score\n",
    "\n",
    "name = 'nb'\n",
    "model = GaussianNB()\n",
    "model.fit(train_X, train_y)\n",
    "cv_score = cross_val_score(model, combined_X, combined_y, cv=5).mean()\n",
    "model_acc.loc[name,'revised_acc']=cv_score"
   ]
  },
  {
   "cell_type": "code",
   "execution_count": 60,
   "metadata": {},
   "outputs": [
    {
     "data": {
      "text/html": [
       "<div>\n",
       "<style>\n",
       "    .dataframe thead tr:only-child th {\n",
       "        text-align: right;\n",
       "    }\n",
       "\n",
       "    .dataframe thead th {\n",
       "        text-align: left;\n",
       "    }\n",
       "\n",
       "    .dataframe tbody tr th {\n",
       "        vertical-align: top;\n",
       "    }\n",
       "</style>\n",
       "<table border=\"1\" class=\"dataframe\">\n",
       "  <thead>\n",
       "    <tr style=\"text-align: right;\">\n",
       "      <th></th>\n",
       "      <th>basic_acc</th>\n",
       "      <th>revised_acc</th>\n",
       "      <th>tuned_acc</th>\n",
       "      <th>tuned_params</th>\n",
       "      <th>best_acc</th>\n",
       "    </tr>\n",
       "  </thead>\n",
       "  <tbody>\n",
       "    <tr>\n",
       "      <th>rfc</th>\n",
       "      <td>0.822676</td>\n",
       "      <td>0.836097</td>\n",
       "      <td>NaN</td>\n",
       "      <td>NaN</td>\n",
       "      <td>NaN</td>\n",
       "    </tr>\n",
       "    <tr>\n",
       "      <th>gbc</th>\n",
       "      <td>0.830517</td>\n",
       "      <td>0.829381</td>\n",
       "      <td>NaN</td>\n",
       "      <td>NaN</td>\n",
       "      <td>NaN</td>\n",
       "    </tr>\n",
       "    <tr>\n",
       "      <th>knn</th>\n",
       "      <td>0.719399</td>\n",
       "      <td>0.837202</td>\n",
       "      <td>NaN</td>\n",
       "      <td>NaN</td>\n",
       "      <td>NaN</td>\n",
       "    </tr>\n",
       "    <tr>\n",
       "      <th>svc</th>\n",
       "      <td>0.726128</td>\n",
       "      <td>0.834993</td>\n",
       "      <td>NaN</td>\n",
       "      <td>NaN</td>\n",
       "      <td>NaN</td>\n",
       "    </tr>\n",
       "    <tr>\n",
       "      <th>nb</th>\n",
       "      <td>0.439928</td>\n",
       "      <td>0.810279</td>\n",
       "      <td>NaN</td>\n",
       "      <td>NaN</td>\n",
       "      <td>NaN</td>\n",
       "    </tr>\n",
       "  </tbody>\n",
       "</table>\n",
       "</div>"
      ],
      "text/plain": [
       "    basic_acc revised_acc tuned_acc tuned_params best_acc\n",
       "rfc  0.822676    0.836097       NaN          NaN      NaN\n",
       "gbc  0.830517    0.829381       NaN          NaN      NaN\n",
       "knn  0.719399    0.837202       NaN          NaN      NaN\n",
       "svc  0.726128    0.834993       NaN          NaN      NaN\n",
       "nb   0.439928    0.810279       NaN          NaN      NaN"
      ]
     },
     "execution_count": 60,
     "metadata": {},
     "output_type": "execute_result"
    }
   ],
   "source": [
    "model_acc"
   ]
  },
  {
   "cell_type": "code",
   "execution_count": 61,
   "metadata": {},
   "outputs": [
    {
     "data": {
      "text/plain": [
       "Text(0.5,1,'Basic/Improved Accuracies of models')"
      ]
     },
     "execution_count": 61,
     "metadata": {},
     "output_type": "execute_result"
    },
    {
     "data": {
      "image/png": "[encoded data removed]",
      "text/plain": [
       "<matplotlib.figure.Figure at 0x70ec02e7f0>"
      ]
     },
     "metadata": {},
     "output_type": "display_data"
    }
   ],
   "source": [
    "model_acc[['basic_acc','revised_acc']].sort_values(by='basic_acc', ascending=False).plot(kind='bar', rot=0)\n",
    "plt.legend(bbox_to_anchor=(1, 1))\n",
    "plt.title('Basic/Improved Accuracies of models')"
   ]
  },
  {
   "cell_type": "code",
   "execution_count": 62,
   "metadata": {
    "collapsed": true
   },
   "outputs": [],
   "source": [
    "#Huge increase for Naieve Bayes, similar for others. May help prevent overfitting later?"
   ]
  },
  {
   "cell_type": "code",
   "execution_count": 63,
   "metadata": {
    "collapsed": true
   },
   "outputs": [],
   "source": [
    "#now for some fine tuning"
   ]
  },
  {
   "cell_type": "code",
   "execution_count": 64,
   "metadata": {},
   "outputs": [
    {
     "name": "stdout",
     "output_type": "stream",
     "text": [
      "Fitting 5 folds for each of 30 candidates, totalling 150 fits\n"
     ]
    },
    {
     "name": "stderr",
     "output_type": "stream",
     "text": [
      "[Parallel(n_jobs=-1)]: Done  34 tasks      | elapsed:   11.5s\n",
      "[Parallel(n_jobs=-1)]: Done 150 out of 150 | elapsed:   15.0s finished\n"
     ]
    },
    {
     "name": "stdout",
     "output_type": "stream",
     "text": [
      "best acc: 0.84430176565\n",
      "best params: {'max_depth': 5, 'n_estimators': 50}\n"
     ]
    }
   ],
   "source": [
    "name = 'rfc'\n",
    "model = RandomForestClassifier(n_estimators=50)\n",
    "\n",
    "params = {'n_estimators': [25, 50, 80, 100, 120, 150],\n",
    "         'max_depth': [3,5,8,10,15]}\n",
    "\n",
    "grid = GridSearchCV(model, param_grid=params, \n",
    "                    scoring='accuracy', cv=5, verbose=1, n_jobs=-1)\n",
    "\n",
    "grid = grid.fit(train_X,train_y)\n",
    "\n",
    "print('best acc:',grid.best_score_)\n",
    "print('best params:',grid.best_params_)\n",
    "\n",
    "model_acc.loc[name,2:4]=grid.best_score_ , grid.best_params_"
   ]
  },
  {
   "cell_type": "code",
   "execution_count": 65,
   "metadata": {
    "collapsed": true
   },
   "outputs": [],
   "source": [
    "#selecting and visualising optimal features? (tree only, not fully implemented as similar accuracy)"
   ]
  },
  {
   "cell_type": "code",
   "execution_count": 66,
   "metadata": {},
   "outputs": [
    {
     "name": "stdout",
     "output_type": "stream",
     "text": [
      "train: 0.892455858748 test: 0.817164179104\n",
      "Optimal number of features : 7\n"
     ]
    },
    {
     "data": {
      "image/png": "[encoded data removed]",
      "text/plain": [
       "<matplotlib.figure.Figure at 0x70ec023d68>"
      ]
     },
     "metadata": {},
     "output_type": "display_data"
    }
   ],
   "source": [
    "rfecv = RFECV( estimator = model , step = 1 , cv = StratifiedKFold( train_y , 2 ) , scoring = 'accuracy' )\n",
    "rfecv.fit( train_X , train_y )\n",
    "\n",
    "print ('train:', rfecv.score( train_X , train_y ) , \n",
    "       'test:', rfecv.score( valid_X , valid_y ))\n",
    "print( \"Optimal number of features : %d\" % rfecv.n_features_ )\n",
    "\n",
    "#Plot number of features VS. cross-validation scores\n",
    "plt.figure()\n",
    "plt.xlabel( \"Number of features selected\" )\n",
    "plt.ylabel( \"Cross validation score\" )\n",
    "plt.plot( range( 1 , len( rfecv.grid_scores_ ) + 1 ) , rfecv.grid_scores_ )\n",
    "plt.show()"
   ]
  },
  {
   "cell_type": "code",
   "execution_count": 67,
   "metadata": {},
   "outputs": [
    {
     "data": {
      "image/png": "[encoded data removed]",
      "text/plain": [
       "<matplotlib.figure.Figure at 0x70ec069fd0>"
      ]
     },
     "metadata": {},
     "output_type": "display_data"
    }
   ],
   "source": [
    "model = KNeighborsClassifier(n_neighbors=5)\n",
    "\n",
    "err_list = []\n",
    "for i in range(1,60):\n",
    "    knn = KNeighborsClassifier(n_neighbors=i)\n",
    "    knn.fit(train_X,train_y)\n",
    "    pred_i = knn.predict(valid_X)\n",
    "    err_list.append(np.mean(pred_i != valid_y))\n",
    "    \n",
    "plt.figure(figsize=(10,6))\n",
    "plt.plot(range(1,60),err_list,c='blue',ls='dashed',marker='o',markerfacecolor='red',markersize=10)\n",
    "plt.title('Error Rate vs. K Value')\n",
    "plt.xlabel('K')\n",
    "plt.ylabel('Err rate')\n",
    "plt.show()"
   ]
  },
  {
   "cell_type": "code",
   "execution_count": 68,
   "metadata": {},
   "outputs": [
    {
     "name": "stdout",
     "output_type": "stream",
     "text": [
      "Fitting 5 folds for each of 59 candidates, totalling 295 fits\n"
     ]
    },
    {
     "name": "stderr",
     "output_type": "stream",
     "text": [
      "[Parallel(n_jobs=-1)]: Done  34 tasks      | elapsed:   10.2s\n"
     ]
    },
    {
     "name": "stdout",
     "output_type": "stream",
     "text": [
      "best acc: 0.842696629213\n",
      "best params: {'n_neighbors': 9}\n"
     ]
    },
    {
     "name": "stderr",
     "output_type": "stream",
     "text": [
      "[Parallel(n_jobs=-1)]: Done 295 out of 295 | elapsed:   11.0s finished\n"
     ]
    }
   ],
   "source": [
    "name = 'knn'\n",
    "model = KNeighborsClassifier(n_neighbors=3)\n",
    "\n",
    "params = {'n_neighbors': list(range(1,60))}\n",
    "\n",
    "grid = GridSearchCV(model, param_grid=params, \n",
    "                    scoring='accuracy', cv=5, verbose=1, n_jobs=-1)\n",
    "\n",
    "grid = grid.fit(train_X,train_y)\n",
    "\n",
    "print('best acc:',grid.best_score_)\n",
    "print('best params:',grid.best_params_)\n",
    "\n",
    "model_acc.loc[name,2:4]=grid.best_score_ , grid.best_params_"
   ]
  },
  {
   "cell_type": "code",
   "execution_count": 69,
   "metadata": {},
   "outputs": [
    {
     "name": "stdout",
     "output_type": "stream",
     "text": [
      "Fitting 5 folds for each of 21 candidates, totalling 105 fits\n"
     ]
    },
    {
     "name": "stderr",
     "output_type": "stream",
     "text": [
      "[Parallel(n_jobs=-1)]: Done  34 tasks      | elapsed:   11.2s\n"
     ]
    },
    {
     "name": "stdout",
     "output_type": "stream",
     "text": [
      "best acc: 0.842696629213\n",
      "best params: {'C': 1.5, 'kernel': 'rbf'}\n"
     ]
    },
    {
     "name": "stderr",
     "output_type": "stream",
     "text": [
      "[Parallel(n_jobs=-1)]: Done 105 out of 105 | elapsed:   11.6s finished\n"
     ]
    }
   ],
   "source": [
    "name = 'svc'\n",
    "model = SVC(kernel='linear',C=0.2)\n",
    "\n",
    "params = {'C':[0.1, 0.2, 0.5, 0.8, 1, 1.2, 1.5],\n",
    "         'kernel': ['rbf','linear','sigmoid']}\n",
    "\n",
    "grid = GridSearchCV(model, param_grid=params, \n",
    "                    scoring='accuracy', cv=5, verbose=1, n_jobs=-1)\n",
    "\n",
    "grid = grid.fit(train_X,train_y)\n",
    "\n",
    "print('best acc:',grid.best_score_)\n",
    "print('best params:',grid.best_params_)\n",
    "\n",
    "model_acc.loc[name,2:4]=grid.best_score_ , grid.best_params_"
   ]
  },
  {
   "cell_type": "code",
   "execution_count": 70,
   "metadata": {},
   "outputs": [
    {
     "name": "stdout",
     "output_type": "stream",
     "text": [
      "Fitting 5 folds for each of 72 candidates, totalling 360 fits\n"
     ]
    },
    {
     "name": "stderr",
     "output_type": "stream",
     "text": [
      "[Parallel(n_jobs=-1)]: Done  34 tasks      | elapsed:   10.8s\n",
      "[Parallel(n_jobs=-1)]: Done 184 tasks      | elapsed:   17.3s\n",
      "[Parallel(n_jobs=-1)]: Done 360 out of 360 | elapsed:   27.9s finished\n"
     ]
    },
    {
     "name": "stdout",
     "output_type": "stream",
     "text": [
      "best acc: 0.847512038523\n",
      "best params: {'learning_rate': 0.05, 'max_depth': 3, 'n_estimators': 50}\n"
     ]
    }
   ],
   "source": [
    "name = 'gbc'\n",
    "model = GradientBoostingClassifier()\n",
    "\n",
    "params = {'learning_rate':[0.05, 0.1, 0.15],\n",
    "         'n_estimators': [50, 100, 150, 250],\n",
    "         'max_depth': [2,3,4,5,6,10]}\n",
    "\n",
    "grid = GridSearchCV(model, param_grid=params, \n",
    "                    scoring='accuracy', cv=5, verbose=1, n_jobs=-1)\n",
    "\n",
    "grid = grid.fit(train_X,train_y)\n",
    "\n",
    "print('best acc:',grid.best_score_)\n",
    "print('best params:',grid.best_params_)\n",
    "\n",
    "model_acc.loc[name,2:4]=grid.best_score_ , grid.best_params_"
   ]
  },
  {
   "cell_type": "code",
   "execution_count": 71,
   "metadata": {
    "collapsed": true
   },
   "outputs": [],
   "source": [
    "#nb has no fine tuning parameters. "
   ]
  },
  {
   "cell_type": "code",
   "execution_count": 72,
   "metadata": {},
   "outputs": [
    {
     "data": {
      "text/plain": [
       "Text(0.5,1,'Basic/Improved/Tuned Accuracies of models')"
      ]
     },
     "execution_count": 72,
     "metadata": {},
     "output_type": "execute_result"
    },
    {
     "data": {
      "image/png": "[encoded data removed]",
      "text/plain": [
       "<matplotlib.figure.Figure at 0x70ebfa0828>"
      ]
     },
     "metadata": {},
     "output_type": "display_data"
    }
   ],
   "source": [
    "model_acc.iloc[:,:3].plot(kind='bar', rot=0)\n",
    "plt.legend(bbox_to_anchor=(1, 1))\n",
    "plt.title('Basic/Improved/Tuned Accuracies of models')"
   ]
  },
  {
   "cell_type": "code",
   "execution_count": 73,
   "metadata": {
    "collapsed": true
   },
   "outputs": [],
   "source": [
    "#and plotting just basic/best:"
   ]
  },
  {
   "cell_type": "code",
   "execution_count": 74,
   "metadata": {
    "collapsed": true
   },
   "outputs": [],
   "source": [
    "model_acc.iloc[:,4] = model_acc.iloc[:,:3].max(axis=1)"
   ]
  },
  {
   "cell_type": "code",
   "execution_count": 75,
   "metadata": {},
   "outputs": [
    {
     "data": {
      "text/plain": [
       "Text(0.5,1,'Basic/Best Accuracies of models')"
      ]
     },
     "execution_count": 75,
     "metadata": {},
     "output_type": "execute_result"
    },
    {
     "data": {
      "image/png": "[encoded data removed]",
      "text/plain": [
       "<matplotlib.figure.Figure at 0x70ebfe6940>"
      ]
     },
     "metadata": {},
     "output_type": "display_data"
    }
   ],
   "source": [
    "model_acc.iloc[:,[0,4]].sort_values(by='best_acc', ascending=False).plot(kind='bar', rot=0)\n",
    "plt.legend(bbox_to_anchor=(1, 1))\n",
    "plt.title('Basic/Best Accuracies of models')"
   ]
  },
  {
   "cell_type": "code",
   "execution_count": 76,
   "metadata": {
    "collapsed": true
   },
   "outputs": [],
   "source": [
    "#playing with homebrew ensembling"
   ]
  },
  {
   "cell_type": "code",
   "execution_count": 77,
   "metadata": {},
   "outputs": [
    {
     "data": {
      "text/html": [
       "<div>\n",
       "<style>\n",
       "    .dataframe thead tr:only-child th {\n",
       "        text-align: right;\n",
       "    }\n",
       "\n",
       "    .dataframe thead th {\n",
       "        text-align: left;\n",
       "    }\n",
       "\n",
       "    .dataframe tbody tr th {\n",
       "        vertical-align: top;\n",
       "    }\n",
       "</style>\n",
       "<table border=\"1\" class=\"dataframe\">\n",
       "  <thead>\n",
       "    <tr style=\"text-align: right;\">\n",
       "      <th></th>\n",
       "      <th>basic_acc</th>\n",
       "      <th>revised_acc</th>\n",
       "      <th>tuned_acc</th>\n",
       "      <th>tuned_params</th>\n",
       "      <th>best_acc</th>\n",
       "    </tr>\n",
       "  </thead>\n",
       "  <tbody>\n",
       "    <tr>\n",
       "      <th>rfc</th>\n",
       "      <td>0.822676</td>\n",
       "      <td>0.836097</td>\n",
       "      <td>0.844302</td>\n",
       "      <td>{'max_depth': 5, 'n_estimators': 50}</td>\n",
       "      <td>0.844302</td>\n",
       "    </tr>\n",
       "    <tr>\n",
       "      <th>gbc</th>\n",
       "      <td>0.830517</td>\n",
       "      <td>0.829381</td>\n",
       "      <td>0.847512</td>\n",
       "      <td>{'learning_rate': 0.05, 'max_depth': 3, 'n_est...</td>\n",
       "      <td>0.847512</td>\n",
       "    </tr>\n",
       "    <tr>\n",
       "      <th>knn</th>\n",
       "      <td>0.719399</td>\n",
       "      <td>0.837202</td>\n",
       "      <td>0.842697</td>\n",
       "      <td>{'n_neighbors': 9}</td>\n",
       "      <td>0.842697</td>\n",
       "    </tr>\n",
       "    <tr>\n",
       "      <th>svc</th>\n",
       "      <td>0.726128</td>\n",
       "      <td>0.834993</td>\n",
       "      <td>0.842697</td>\n",
       "      <td>{'C': 1.5, 'kernel': 'rbf'}</td>\n",
       "      <td>0.842697</td>\n",
       "    </tr>\n",
       "    <tr>\n",
       "      <th>nb</th>\n",
       "      <td>0.439928</td>\n",
       "      <td>0.810279</td>\n",
       "      <td>NaN</td>\n",
       "      <td>NaN</td>\n",
       "      <td>0.810279</td>\n",
       "    </tr>\n",
       "  </tbody>\n",
       "</table>\n",
       "</div>"
      ],
      "text/plain": [
       "    basic_acc revised_acc tuned_acc  \\\n",
       "rfc  0.822676    0.836097  0.844302   \n",
       "gbc  0.830517    0.829381  0.847512   \n",
       "knn  0.719399    0.837202  0.842697   \n",
       "svc  0.726128    0.834993  0.842697   \n",
       "nb   0.439928    0.810279       NaN   \n",
       "\n",
       "                                          tuned_params  best_acc  \n",
       "rfc               {'max_depth': 5, 'n_estimators': 50}  0.844302  \n",
       "gbc  {'learning_rate': 0.05, 'max_depth': 3, 'n_est...  0.847512  \n",
       "knn                                 {'n_neighbors': 9}  0.842697  \n",
       "svc                        {'C': 1.5, 'kernel': 'rbf'}  0.842697  \n",
       "nb                                                 NaN  0.810279  "
      ]
     },
     "execution_count": 77,
     "metadata": {},
     "output_type": "execute_result"
    }
   ],
   "source": [
    "model_acc"
   ]
  },
  {
   "cell_type": "code",
   "execution_count": 78,
   "metadata": {},
   "outputs": [
    {
     "data": {
      "text/plain": [
       "5"
      ]
     },
     "execution_count": 78,
     "metadata": {},
     "output_type": "execute_result"
    }
   ],
   "source": [
    "model_acc.loc['rfc','tuned_params']['max_depth']"
   ]
  },
  {
   "cell_type": "code",
   "execution_count": 79,
   "metadata": {},
   "outputs": [
    {
     "data": {
      "text/plain": [
       "GaussianNB(priors=None)"
      ]
     },
     "execution_count": 79,
     "metadata": {},
     "output_type": "execute_result"
    }
   ],
   "source": [
    "#rfc\n",
    "tp_md = model_acc.loc['rfc','tuned_params']['max_depth']\n",
    "tp_n = model_acc.loc['rfc','tuned_params']['n_estimators']\n",
    "rfc = RandomForestClassifier(max_depth=tp_md, n_estimators=tp_n)\n",
    "rfc.fit(train_X, train_y)\n",
    "\n",
    "#gbc\n",
    "tp_lr = model_acc.loc['gbc','tuned_params']['learning_rate']\n",
    "tp_md = model_acc.loc['gbc','tuned_params']['max_depth']\n",
    "tp_n = model_acc.loc['gbc','tuned_params']['n_estimators']\n",
    "gbc = GradientBoostingClassifier(learning_rate=tp_lr, max_depth=tp_md, n_estimators=tp_n)\n",
    "gbc.fit(train_X, train_y)\n",
    "\n",
    "#knn\n",
    "tp_n = model_acc.loc['knn','tuned_params']['n_neighbors']\n",
    "knn = KNeighborsClassifier(n_neighbors=tp_n)\n",
    "knn.fit(train_X, train_y)\n",
    "\n",
    "#svc\n",
    "tp_c = model_acc.loc['svc','tuned_params']['C']\n",
    "tp_kernel = model_acc.loc['svc','tuned_params']['kernel']\n",
    "svc = SVC(C=tp_c, kernel=tp_kernel)\n",
    "svc.fit(train_X, train_y)\n",
    "\n",
    "nb = GaussianNB()\n",
    "nb.fit(train_X, train_y)"
   ]
  },
  {
   "cell_type": "code",
   "execution_count": 80,
   "metadata": {
    "collapsed": true
   },
   "outputs": [],
   "source": [
    "models = [rfc, gbc, knn, svc, nb]\n",
    "guess = np.zeros(combined_X.shape[0])\n",
    "\n",
    "for m in models:\n",
    "    guess+=m.predict(combined_X)\n",
    "    \n",
    "guess = np.round(guess/5)"
   ]
  },
  {
   "cell_type": "code",
   "execution_count": 81,
   "metadata": {},
   "outputs": [
    {
     "name": "stdout",
     "output_type": "stream",
     "text": [
      "[[491  58]\n",
      " [ 82 260]]\n"
     ]
    }
   ],
   "source": [
    "print(confusion_matrix(combined_y,guess))"
   ]
  },
  {
   "cell_type": "code",
   "execution_count": 82,
   "metadata": {},
   "outputs": [
    {
     "name": "stdout",
     "output_type": "stream",
     "text": [
      "             precision    recall  f1-score   support\n",
      "\n",
      "        0.0       0.86      0.89      0.88       549\n",
      "        1.0       0.82      0.76      0.79       342\n",
      "\n",
      "avg / total       0.84      0.84      0.84       891\n",
      "\n"
     ]
    }
   ],
   "source": [
    "print(classification_report(combined_y, guess))"
   ]
  },
  {
   "cell_type": "code",
   "execution_count": 83,
   "metadata": {
    "collapsed": true
   },
   "outputs": [],
   "source": [
    "model_acc.loc['ens','best_acc'] = accuracy_score(combined_y,guess)"
   ]
  },
  {
   "cell_type": "code",
   "execution_count": 84,
   "metadata": {},
   "outputs": [
    {
     "data": {
      "text/html": [
       "<div>\n",
       "<style>\n",
       "    .dataframe thead tr:only-child th {\n",
       "        text-align: right;\n",
       "    }\n",
       "\n",
       "    .dataframe thead th {\n",
       "        text-align: left;\n",
       "    }\n",
       "\n",
       "    .dataframe tbody tr th {\n",
       "        vertical-align: top;\n",
       "    }\n",
       "</style>\n",
       "<table border=\"1\" class=\"dataframe\">\n",
       "  <thead>\n",
       "    <tr style=\"text-align: right;\">\n",
       "      <th></th>\n",
       "      <th>basic_acc</th>\n",
       "      <th>revised_acc</th>\n",
       "      <th>tuned_acc</th>\n",
       "      <th>tuned_params</th>\n",
       "      <th>best_acc</th>\n",
       "    </tr>\n",
       "  </thead>\n",
       "  <tbody>\n",
       "    <tr>\n",
       "      <th>rfc</th>\n",
       "      <td>0.822676</td>\n",
       "      <td>0.836097</td>\n",
       "      <td>0.844302</td>\n",
       "      <td>{'max_depth': 5, 'n_estimators': 50}</td>\n",
       "      <td>0.844302</td>\n",
       "    </tr>\n",
       "    <tr>\n",
       "      <th>gbc</th>\n",
       "      <td>0.830517</td>\n",
       "      <td>0.829381</td>\n",
       "      <td>0.847512</td>\n",
       "      <td>{'learning_rate': 0.05, 'max_depth': 3, 'n_est...</td>\n",
       "      <td>0.847512</td>\n",
       "    </tr>\n",
       "    <tr>\n",
       "      <th>knn</th>\n",
       "      <td>0.719399</td>\n",
       "      <td>0.837202</td>\n",
       "      <td>0.842697</td>\n",
       "      <td>{'n_neighbors': 9}</td>\n",
       "      <td>0.842697</td>\n",
       "    </tr>\n",
       "    <tr>\n",
       "      <th>svc</th>\n",
       "      <td>0.726128</td>\n",
       "      <td>0.834993</td>\n",
       "      <td>0.842697</td>\n",
       "      <td>{'C': 1.5, 'kernel': 'rbf'}</td>\n",
       "      <td>0.842697</td>\n",
       "    </tr>\n",
       "    <tr>\n",
       "      <th>nb</th>\n",
       "      <td>0.439928</td>\n",
       "      <td>0.810279</td>\n",
       "      <td>NaN</td>\n",
       "      <td>NaN</td>\n",
       "      <td>0.810279</td>\n",
       "    </tr>\n",
       "    <tr>\n",
       "      <th>ens</th>\n",
       "      <td>NaN</td>\n",
       "      <td>NaN</td>\n",
       "      <td>NaN</td>\n",
       "      <td>NaN</td>\n",
       "      <td>0.842873</td>\n",
       "    </tr>\n",
       "  </tbody>\n",
       "</table>\n",
       "</div>"
      ],
      "text/plain": [
       "    basic_acc revised_acc tuned_acc  \\\n",
       "rfc  0.822676    0.836097  0.844302   \n",
       "gbc  0.830517    0.829381  0.847512   \n",
       "knn  0.719399    0.837202  0.842697   \n",
       "svc  0.726128    0.834993  0.842697   \n",
       "nb   0.439928    0.810279       NaN   \n",
       "ens       NaN         NaN       NaN   \n",
       "\n",
       "                                          tuned_params  best_acc  \n",
       "rfc               {'max_depth': 5, 'n_estimators': 50}  0.844302  \n",
       "gbc  {'learning_rate': 0.05, 'max_depth': 3, 'n_est...  0.847512  \n",
       "knn                                 {'n_neighbors': 9}  0.842697  \n",
       "svc                        {'C': 1.5, 'kernel': 'rbf'}  0.842697  \n",
       "nb                                                 NaN  0.810279  \n",
       "ens                                                NaN  0.842873  "
      ]
     },
     "execution_count": 84,
     "metadata": {},
     "output_type": "execute_result"
    }
   ],
   "source": [
    "model_acc"
   ]
  },
  {
   "cell_type": "code",
   "execution_count": 85,
   "metadata": {},
   "outputs": [
    {
     "data": {
      "text/plain": [
       "Text(0.5,1,'Best accuracy of models incl. ensemble')"
      ]
     },
     "execution_count": 85,
     "metadata": {},
     "output_type": "execute_result"
    },
    {
     "data": {
      "image/png": "[encoded data removed]",
      "text/plain": [
       "<matplotlib.figure.Figure at 0x70ec277240>"
      ]
     },
     "metadata": {},
     "output_type": "display_data"
    }
   ],
   "source": [
    "model_acc['best_acc'].sort_values(ascending=False).plot(kind='bar', ylim=[0.7,0.9], rot=0)\n",
    "plt.title('Best accuracy of models incl. ensemble')"
   ]
  },
  {
   "cell_type": "code",
   "execution_count": 86,
   "metadata": {},
   "outputs": [
    {
     "name": "stdout",
     "output_type": "stream",
     "text": [
      "[0]\tvalidation_0-rmse:0.487925\n",
      "Will train until validation_0-rmse hasn't improved in 5 rounds.\n",
      "[1]\tvalidation_0-rmse:0.47676\n",
      "[2]\tvalidation_0-rmse:0.46645\n",
      "[3]\tvalidation_0-rmse:0.456991\n",
      "[4]\tvalidation_0-rmse:0.448223\n",
      "[5]\tvalidation_0-rmse:0.440209\n",
      "[6]\tvalidation_0-rmse:0.432836\n",
      "[7]\tvalidation_0-rmse:0.426058\n",
      "[8]\tvalidation_0-rmse:0.419834\n",
      "[9]\tvalidation_0-rmse:0.414073\n",
      "[10]\tvalidation_0-rmse:0.408893\n",
      "[11]\tvalidation_0-rmse:0.404052\n",
      "[12]\tvalidation_0-rmse:0.399656\n",
      "[13]\tvalidation_0-rmse:0.395638\n",
      "[14]\tvalidation_0-rmse:0.391946\n",
      "[15]\tvalidation_0-rmse:0.388513\n",
      "[16]\tvalidation_0-rmse:0.384798\n",
      "[17]\tvalidation_0-rmse:0.381421\n",
      "[18]\tvalidation_0-rmse:0.378224\n",
      "[19]\tvalidation_0-rmse:0.375421\n",
      "[20]\tvalidation_0-rmse:0.372755\n",
      "[21]\tvalidation_0-rmse:0.370435\n",
      "[22]\tvalidation_0-rmse:0.368157\n",
      "[23]\tvalidation_0-rmse:0.366125\n",
      "[24]\tvalidation_0-rmse:0.364396\n",
      "[25]\tvalidation_0-rmse:0.362639\n",
      "[26]\tvalidation_0-rmse:0.361061\n",
      "[27]\tvalidation_0-rmse:0.359088\n",
      "[28]\tvalidation_0-rmse:0.357296\n",
      "[29]\tvalidation_0-rmse:0.355676\n",
      "[30]\tvalidation_0-rmse:0.354198\n",
      "[31]\tvalidation_0-rmse:0.352863\n",
      "[32]\tvalidation_0-rmse:0.351675\n",
      "[33]\tvalidation_0-rmse:0.35056\n",
      "[34]\tvalidation_0-rmse:0.349575\n",
      "[35]\tvalidation_0-rmse:0.348756\n",
      "[36]\tvalidation_0-rmse:0.348034\n",
      "[37]\tvalidation_0-rmse:0.347191\n",
      "[38]\tvalidation_0-rmse:0.346448\n",
      "[39]\tvalidation_0-rmse:0.345755\n",
      "[40]\tvalidation_0-rmse:0.345141\n",
      "[41]\tvalidation_0-rmse:0.344764\n",
      "[42]\tvalidation_0-rmse:0.344242\n",
      "[43]\tvalidation_0-rmse:0.343857\n",
      "[44]\tvalidation_0-rmse:0.343598\n",
      "[45]\tvalidation_0-rmse:0.343111\n",
      "[46]\tvalidation_0-rmse:0.342842\n",
      "[47]\tvalidation_0-rmse:0.342464\n",
      "[48]\tvalidation_0-rmse:0.342202\n",
      "[49]\tvalidation_0-rmse:0.341882\n",
      "[50]\tvalidation_0-rmse:0.341695\n",
      "[51]\tvalidation_0-rmse:0.34141\n",
      "[52]\tvalidation_0-rmse:0.341053\n",
      "[53]\tvalidation_0-rmse:0.340767\n",
      "[54]\tvalidation_0-rmse:0.340519\n",
      "[55]\tvalidation_0-rmse:0.340251\n",
      "[56]\tvalidation_0-rmse:0.340091\n",
      "[57]\tvalidation_0-rmse:0.339852\n",
      "[58]\tvalidation_0-rmse:0.339623\n",
      "[59]\tvalidation_0-rmse:0.339403\n",
      "[60]\tvalidation_0-rmse:0.339272\n",
      "[61]\tvalidation_0-rmse:0.339064\n",
      "[62]\tvalidation_0-rmse:0.338844\n",
      "[63]\tvalidation_0-rmse:0.338715\n",
      "[64]\tvalidation_0-rmse:0.338647\n",
      "[65]\tvalidation_0-rmse:0.338469\n",
      "[66]\tvalidation_0-rmse:0.338234\n",
      "[67]\tvalidation_0-rmse:0.338049\n",
      "[68]\tvalidation_0-rmse:0.337891\n",
      "[69]\tvalidation_0-rmse:0.337657\n",
      "[70]\tvalidation_0-rmse:0.337519\n",
      "[71]\tvalidation_0-rmse:0.337411\n",
      "[72]\tvalidation_0-rmse:0.337223\n",
      "[73]\tvalidation_0-rmse:0.337089\n",
      "[74]\tvalidation_0-rmse:0.33692\n",
      "[75]\tvalidation_0-rmse:0.336689\n",
      "[76]\tvalidation_0-rmse:0.336558\n",
      "[77]\tvalidation_0-rmse:0.336507\n",
      "[78]\tvalidation_0-rmse:0.336069\n",
      "[79]\tvalidation_0-rmse:0.336021\n",
      "[80]\tvalidation_0-rmse:0.335974\n",
      "[81]\tvalidation_0-rmse:0.335641\n",
      "[82]\tvalidation_0-rmse:0.335605\n",
      "[83]\tvalidation_0-rmse:0.335263\n",
      "[84]\tvalidation_0-rmse:0.335167\n",
      "[85]\tvalidation_0-rmse:0.335009\n",
      "[86]\tvalidation_0-rmse:0.334973\n",
      "[87]\tvalidation_0-rmse:0.334872\n",
      "[88]\tvalidation_0-rmse:0.334538\n",
      "[89]\tvalidation_0-rmse:0.334509\n",
      "[90]\tvalidation_0-rmse:0.3344\n",
      "[91]\tvalidation_0-rmse:0.334283\n",
      "[92]\tvalidation_0-rmse:0.334224\n",
      "[93]\tvalidation_0-rmse:0.334099\n",
      "[94]\tvalidation_0-rmse:0.33408\n",
      "[95]\tvalidation_0-rmse:0.333992\n",
      "[96]\tvalidation_0-rmse:0.333888\n",
      "[97]\tvalidation_0-rmse:0.33379\n",
      "[98]\tvalidation_0-rmse:0.333722\n",
      "[99]\tvalidation_0-rmse:0.333486\n",
      "[100]\tvalidation_0-rmse:0.333443\n",
      "[101]\tvalidation_0-rmse:0.33336\n",
      "[102]\tvalidation_0-rmse:0.333148\n",
      "[103]\tvalidation_0-rmse:0.333082\n",
      "[104]\tvalidation_0-rmse:0.333037\n",
      "[105]\tvalidation_0-rmse:0.333012\n",
      "[106]\tvalidation_0-rmse:0.33282\n",
      "[107]\tvalidation_0-rmse:0.332763\n",
      "[108]\tvalidation_0-rmse:0.332713\n",
      "[109]\tvalidation_0-rmse:0.332549\n",
      "[110]\tvalidation_0-rmse:0.332528\n",
      "[111]\tvalidation_0-rmse:0.332478\n",
      "[112]\tvalidation_0-rmse:0.332413\n",
      "[113]\tvalidation_0-rmse:0.332386\n",
      "[114]\tvalidation_0-rmse:0.33222\n",
      "[115]\tvalidation_0-rmse:0.332207\n",
      "[116]\tvalidation_0-rmse:0.332175\n",
      "[117]\tvalidation_0-rmse:0.332153\n",
      "[118]\tvalidation_0-rmse:0.332101\n",
      "[119]\tvalidation_0-rmse:0.332029\n",
      "[120]\tvalidation_0-rmse:0.332018\n",
      "[121]\tvalidation_0-rmse:0.331953\n",
      "[122]\tvalidation_0-rmse:0.331927\n",
      "[123]\tvalidation_0-rmse:0.331898\n",
      "[124]\tvalidation_0-rmse:0.331838\n",
      "[125]\tvalidation_0-rmse:0.331831\n",
      "[126]\tvalidation_0-rmse:0.331813\n",
      "[127]\tvalidation_0-rmse:0.331758\n",
      "[128]\tvalidation_0-rmse:0.331717\n",
      "[129]\tvalidation_0-rmse:0.331713\n",
      "[130]\tvalidation_0-rmse:0.331664\n",
      "[131]\tvalidation_0-rmse:0.331673\n",
      "[132]\tvalidation_0-rmse:0.331658\n",
      "[133]\tvalidation_0-rmse:0.331613\n",
      "[134]\tvalidation_0-rmse:0.331575\n",
      "[135]\tvalidation_0-rmse:0.331584\n",
      "[136]\tvalidation_0-rmse:0.331443\n",
      "[137]\tvalidation_0-rmse:0.331435\n",
      "[138]\tvalidation_0-rmse:0.331421\n",
      "[139]\tvalidation_0-rmse:0.331421\n",
      "[140]\tvalidation_0-rmse:0.331334\n",
      "[141]\tvalidation_0-rmse:0.331295\n",
      "[142]\tvalidation_0-rmse:0.331282\n",
      "[143]\tvalidation_0-rmse:0.331238\n",
      "[144]\tvalidation_0-rmse:0.331244\n",
      "[145]\tvalidation_0-rmse:0.331135\n",
      "[146]\tvalidation_0-rmse:0.331105\n",
      "[147]\tvalidation_0-rmse:0.330995\n",
      "[148]\tvalidation_0-rmse:0.331009\n",
      "[149]\tvalidation_0-rmse:0.330947\n",
      "[150]\tvalidation_0-rmse:0.33073\n",
      "[151]\tvalidation_0-rmse:0.330561\n",
      "[152]\tvalidation_0-rmse:0.330558\n",
      "[153]\tvalidation_0-rmse:0.330363\n",
      "[154]\tvalidation_0-rmse:0.330298\n",
      "[155]\tvalidation_0-rmse:0.3302\n",
      "[156]\tvalidation_0-rmse:0.330201\n",
      "[157]\tvalidation_0-rmse:0.330201\n",
      "[158]\tvalidation_0-rmse:0.330045\n",
      "[159]\tvalidation_0-rmse:0.329945\n",
      "[160]\tvalidation_0-rmse:0.32995\n",
      "[161]\tvalidation_0-rmse:0.329871\n",
      "[162]\tvalidation_0-rmse:0.329888\n",
      "[163]\tvalidation_0-rmse:0.329797\n",
      "[164]\tvalidation_0-rmse:0.329712\n",
      "[165]\tvalidation_0-rmse:0.329607\n",
      "[166]\tvalidation_0-rmse:0.329532\n",
      "[167]\tvalidation_0-rmse:0.329413\n",
      "[168]\tvalidation_0-rmse:0.329309\n",
      "[169]\tvalidation_0-rmse:0.329237\n",
      "[170]\tvalidation_0-rmse:0.329131\n",
      "[171]\tvalidation_0-rmse:0.329127\n",
      "[172]\tvalidation_0-rmse:0.329069\n",
      "[173]\tvalidation_0-rmse:0.328918\n",
      "[174]\tvalidation_0-rmse:0.328911\n",
      "[175]\tvalidation_0-rmse:0.328862\n",
      "[176]\tvalidation_0-rmse:0.328857\n",
      "[177]\tvalidation_0-rmse:0.328828\n",
      "[178]\tvalidation_0-rmse:0.328742\n",
      "[179]\tvalidation_0-rmse:0.328705\n",
      "[180]\tvalidation_0-rmse:0.328715\n",
      "[181]\tvalidation_0-rmse:0.328635\n",
      "[182]\tvalidation_0-rmse:0.328562\n",
      "[183]\tvalidation_0-rmse:0.328521\n",
      "[184]\tvalidation_0-rmse:0.328496\n",
      "[185]\tvalidation_0-rmse:0.328459\n",
      "[186]\tvalidation_0-rmse:0.328457\n",
      "[187]\tvalidation_0-rmse:0.328428\n",
      "[188]\tvalidation_0-rmse:0.328441\n",
      "[189]\tvalidation_0-rmse:0.328369\n",
      "[190]\tvalidation_0-rmse:0.328302\n",
      "[191]\tvalidation_0-rmse:0.328212\n",
      "[192]\tvalidation_0-rmse:0.328191\n",
      "[193]\tvalidation_0-rmse:0.328165\n",
      "[194]\tvalidation_0-rmse:0.328142\n",
      "[195]\tvalidation_0-rmse:0.328112\n",
      "[196]\tvalidation_0-rmse:0.328052\n",
      "[197]\tvalidation_0-rmse:0.32798\n",
      "[198]\tvalidation_0-rmse:0.32795\n",
      "[199]\tvalidation_0-rmse:0.327843\n",
      "[200]\tvalidation_0-rmse:0.327768\n",
      "[201]\tvalidation_0-rmse:0.327753\n",
      "[202]\tvalidation_0-rmse:0.327733\n",
      "[203]\tvalidation_0-rmse:0.327683\n",
      "[204]\tvalidation_0-rmse:0.327686\n",
      "[205]\tvalidation_0-rmse:0.327594\n",
      "[206]\tvalidation_0-rmse:0.327572\n",
      "[207]\tvalidation_0-rmse:0.327558\n",
      "[208]\tvalidation_0-rmse:0.327509\n",
      "[209]\tvalidation_0-rmse:0.327498\n",
      "[210]\tvalidation_0-rmse:0.327458\n",
      "[211]\tvalidation_0-rmse:0.327381\n",
      "[212]\tvalidation_0-rmse:0.327376\n",
      "[213]\tvalidation_0-rmse:0.327351\n",
      "[214]\tvalidation_0-rmse:0.327267\n",
      "[215]\tvalidation_0-rmse:0.327262\n",
      "[216]\tvalidation_0-rmse:0.327238\n",
      "[217]\tvalidation_0-rmse:0.327158\n",
      "[218]\tvalidation_0-rmse:0.327177\n",
      "[219]\tvalidation_0-rmse:0.327166\n",
      "[220]\tvalidation_0-rmse:0.327146\n",
      "[221]\tvalidation_0-rmse:0.327089\n",
      "[222]\tvalidation_0-rmse:0.327036\n",
      "[223]\tvalidation_0-rmse:0.326968\n",
      "[224]\tvalidation_0-rmse:0.326964\n",
      "[225]\tvalidation_0-rmse:0.32695\n",
      "[226]\tvalidation_0-rmse:0.326888\n",
      "[227]\tvalidation_0-rmse:0.326886\n",
      "[228]\tvalidation_0-rmse:0.326827\n",
      "[229]\tvalidation_0-rmse:0.326821\n",
      "[230]\tvalidation_0-rmse:0.326815\n",
      "[231]\tvalidation_0-rmse:0.326796\n",
      "[232]\tvalidation_0-rmse:0.326752\n",
      "[233]\tvalidation_0-rmse:0.32675\n",
      "[234]\tvalidation_0-rmse:0.326682\n",
      "[235]\tvalidation_0-rmse:0.326633\n",
      "[236]\tvalidation_0-rmse:0.326597\n",
      "[237]\tvalidation_0-rmse:0.326591\n",
      "[238]\tvalidation_0-rmse:0.32654\n",
      "[239]\tvalidation_0-rmse:0.326527\n",
      "[240]\tvalidation_0-rmse:0.326525\n",
      "[241]\tvalidation_0-rmse:0.326506\n",
      "[242]\tvalidation_0-rmse:0.326459\n",
      "[243]\tvalidation_0-rmse:0.326447\n",
      "[244]\tvalidation_0-rmse:0.326431\n",
      "[245]\tvalidation_0-rmse:0.326426\n",
      "[246]\tvalidation_0-rmse:0.326404\n",
      "[247]\tvalidation_0-rmse:0.326323\n",
      "[248]\tvalidation_0-rmse:0.326323\n",
      "[249]\tvalidation_0-rmse:0.32627\n",
      "[250]\tvalidation_0-rmse:0.326236\n"
     ]
    },
    {
     "name": "stdout",
     "output_type": "stream",
     "text": [
      "[251]\tvalidation_0-rmse:0.32624\n",
      "[252]\tvalidation_0-rmse:0.326145\n",
      "[253]\tvalidation_0-rmse:0.326124\n",
      "[254]\tvalidation_0-rmse:0.326003\n",
      "[255]\tvalidation_0-rmse:0.325985\n",
      "[256]\tvalidation_0-rmse:0.325874\n",
      "[257]\tvalidation_0-rmse:0.325826\n",
      "[258]\tvalidation_0-rmse:0.325764\n",
      "[259]\tvalidation_0-rmse:0.325751\n",
      "[260]\tvalidation_0-rmse:0.325752\n",
      "[261]\tvalidation_0-rmse:0.32565\n",
      "[262]\tvalidation_0-rmse:0.325653\n",
      "[263]\tvalidation_0-rmse:0.325613\n",
      "[264]\tvalidation_0-rmse:0.325581\n",
      "[265]\tvalidation_0-rmse:0.32557\n",
      "[266]\tvalidation_0-rmse:0.32548\n",
      "[267]\tvalidation_0-rmse:0.32544\n",
      "[268]\tvalidation_0-rmse:0.325413\n",
      "[269]\tvalidation_0-rmse:0.325413\n",
      "[270]\tvalidation_0-rmse:0.325384\n",
      "[271]\tvalidation_0-rmse:0.325351\n",
      "[272]\tvalidation_0-rmse:0.325356\n",
      "[273]\tvalidation_0-rmse:0.325273\n",
      "[274]\tvalidation_0-rmse:0.325248\n",
      "[275]\tvalidation_0-rmse:0.325183\n",
      "[276]\tvalidation_0-rmse:0.325158\n",
      "[277]\tvalidation_0-rmse:0.325157\n",
      "[278]\tvalidation_0-rmse:0.32511\n",
      "[279]\tvalidation_0-rmse:0.325074\n",
      "[280]\tvalidation_0-rmse:0.325032\n",
      "[281]\tvalidation_0-rmse:0.324975\n",
      "[282]\tvalidation_0-rmse:0.324997\n",
      "[283]\tvalidation_0-rmse:0.324994\n",
      "[284]\tvalidation_0-rmse:0.324923\n",
      "[285]\tvalidation_0-rmse:0.324905\n",
      "[286]\tvalidation_0-rmse:0.324881\n",
      "[287]\tvalidation_0-rmse:0.324887\n",
      "[288]\tvalidation_0-rmse:0.324856\n",
      "[289]\tvalidation_0-rmse:0.324879\n",
      "[290]\tvalidation_0-rmse:0.324842\n",
      "[291]\tvalidation_0-rmse:0.324845\n",
      "[292]\tvalidation_0-rmse:0.324814\n",
      "[293]\tvalidation_0-rmse:0.324818\n",
      "[294]\tvalidation_0-rmse:0.324795\n",
      "[295]\tvalidation_0-rmse:0.324805\n",
      "[296]\tvalidation_0-rmse:0.324772\n",
      "[297]\tvalidation_0-rmse:0.324756\n",
      "[298]\tvalidation_0-rmse:0.324736\n",
      "[299]\tvalidation_0-rmse:0.324742\n",
      "[300]\tvalidation_0-rmse:0.324722\n",
      "[301]\tvalidation_0-rmse:0.324702\n",
      "[302]\tvalidation_0-rmse:0.32471\n",
      "[303]\tvalidation_0-rmse:0.324714\n",
      "[304]\tvalidation_0-rmse:0.32469\n",
      "[305]\tvalidation_0-rmse:0.32467\n",
      "[306]\tvalidation_0-rmse:0.324643\n",
      "[307]\tvalidation_0-rmse:0.324616\n",
      "[308]\tvalidation_0-rmse:0.324598\n",
      "[309]\tvalidation_0-rmse:0.324599\n",
      "[310]\tvalidation_0-rmse:0.324599\n",
      "[311]\tvalidation_0-rmse:0.324592\n",
      "[312]\tvalidation_0-rmse:0.324569\n",
      "[313]\tvalidation_0-rmse:0.324583\n",
      "[314]\tvalidation_0-rmse:0.324592\n",
      "[315]\tvalidation_0-rmse:0.324604\n",
      "[316]\tvalidation_0-rmse:0.324594\n",
      "[317]\tvalidation_0-rmse:0.324572\n",
      "Stopping. Best iteration:\n",
      "[312]\tvalidation_0-rmse:0.324569\n",
      "\n"
     ]
    },
    {
     "data": {
      "text/plain": [
       "XGBRegressor(base_score=0.5, booster='gbtree', colsample_bylevel=1,\n",
       "       colsample_bytree=1, gamma=0, learning_rate=0.05, max_delta_step=0,\n",
       "       max_depth=3, min_child_weight=1, missing=None, n_estimators=1000,\n",
       "       n_jobs=1, nthread=None, objective='reg:linear', random_state=0,\n",
       "       reg_alpha=0, reg_lambda=1, scale_pos_weight=1, seed=None,\n",
       "       silent=True, subsample=1)"
      ]
     },
     "execution_count": 86,
     "metadata": {},
     "output_type": "execute_result"
    }
   ],
   "source": [
    "from xgboost import XGBRegressor\n",
    "xgb = XGBRegressor(n_estimators=1000, learning_rate=0.05)\n",
    "xgb.fit(train_X,train_y, eval_set=[(train_valid_X, train_valid_y)], early_stopping_rounds=5)"
   ]
  },
  {
   "cell_type": "code",
   "execution_count": 87,
   "metadata": {},
   "outputs": [
    {
     "name": "stdout",
     "output_type": "stream",
     "text": [
      "0.854096520763\n"
     ]
    }
   ],
   "source": [
    "xgb_acc = accuracy_score(combined_y, xgb.predict(combined_X).round())\n",
    "print(xgb_acc)"
   ]
  },
  {
   "cell_type": "code",
   "execution_count": 88,
   "metadata": {},
   "outputs": [
    {
     "data": {
      "text/plain": [
       "Text(0.5,1,'Best accuracy of models incl. xgb')"
      ]
     },
     "execution_count": 88,
     "metadata": {},
     "output_type": "execute_result"
    },
    {
     "data": {
      "image/png": "[encoded data removed]",
      "text/plain": [
       "<matplotlib.figure.Figure at 0x70ec1d80f0>"
      ]
     },
     "metadata": {},
     "output_type": "display_data"
    }
   ],
   "source": [
    "model_acc.loc['xgb','best_acc'] = xgb_acc\n",
    "\n",
    "model_acc['best_acc'].sort_values(ascending=False).plot(kind='bar', ylim=[0.7,0.9], rot=0)\n",
    "plt.title('Best accuracy of models incl. xgb')"
   ]
  },
  {
   "cell_type": "code",
   "execution_count": 89,
   "metadata": {},
   "outputs": [
    {
     "data": {
      "text/html": [
       "<div>\n",
       "<style>\n",
       "    .dataframe thead tr:only-child th {\n",
       "        text-align: right;\n",
       "    }\n",
       "\n",
       "    .dataframe thead th {\n",
       "        text-align: left;\n",
       "    }\n",
       "\n",
       "    .dataframe tbody tr th {\n",
       "        vertical-align: top;\n",
       "    }\n",
       "</style>\n",
       "<table border=\"1\" class=\"dataframe\">\n",
       "  <thead>\n",
       "    <tr style=\"text-align: right;\">\n",
       "      <th></th>\n",
       "      <th>Age</th>\n",
       "      <th>Fare</th>\n",
       "      <th>Pclass_1</th>\n",
       "      <th>Pclass_2</th>\n",
       "      <th>Pclass_3</th>\n",
       "      <th>Sex</th>\n",
       "      <th>Large</th>\n",
       "      <th>Single</th>\n",
       "      <th>Small</th>\n",
       "      <th>Master</th>\n",
       "      <th>Miss</th>\n",
       "      <th>Mr</th>\n",
       "      <th>Mrs</th>\n",
       "      <th>Officer</th>\n",
       "      <th>Royalty</th>\n",
       "      <th>No_cabin</th>\n",
       "    </tr>\n",
       "  </thead>\n",
       "  <tbody>\n",
       "    <tr>\n",
       "      <th>517</th>\n",
       "      <td>0</td>\n",
       "      <td>3</td>\n",
       "      <td>0</td>\n",
       "      <td>0</td>\n",
       "      <td>1</td>\n",
       "      <td>1</td>\n",
       "      <td>0</td>\n",
       "      <td>1</td>\n",
       "      <td>0</td>\n",
       "      <td>0</td>\n",
       "      <td>0</td>\n",
       "      <td>1</td>\n",
       "      <td>0</td>\n",
       "      <td>0</td>\n",
       "      <td>0</td>\n",
       "      <td>1</td>\n",
       "    </tr>\n",
       "    <tr>\n",
       "      <th>356</th>\n",
       "      <td>4</td>\n",
       "      <td>4</td>\n",
       "      <td>1</td>\n",
       "      <td>0</td>\n",
       "      <td>0</td>\n",
       "      <td>0</td>\n",
       "      <td>0</td>\n",
       "      <td>0</td>\n",
       "      <td>1</td>\n",
       "      <td>0</td>\n",
       "      <td>1</td>\n",
       "      <td>0</td>\n",
       "      <td>0</td>\n",
       "      <td>0</td>\n",
       "      <td>0</td>\n",
       "      <td>0</td>\n",
       "    </tr>\n",
       "    <tr>\n",
       "      <th>4</th>\n",
       "      <td>5</td>\n",
       "      <td>2</td>\n",
       "      <td>0</td>\n",
       "      <td>0</td>\n",
       "      <td>1</td>\n",
       "      <td>1</td>\n",
       "      <td>0</td>\n",
       "      <td>1</td>\n",
       "      <td>0</td>\n",
       "      <td>0</td>\n",
       "      <td>0</td>\n",
       "      <td>1</td>\n",
       "      <td>0</td>\n",
       "      <td>0</td>\n",
       "      <td>0</td>\n",
       "      <td>1</td>\n",
       "    </tr>\n",
       "    <tr>\n",
       "      <th>182</th>\n",
       "      <td>2</td>\n",
       "      <td>4</td>\n",
       "      <td>0</td>\n",
       "      <td>0</td>\n",
       "      <td>1</td>\n",
       "      <td>1</td>\n",
       "      <td>1</td>\n",
       "      <td>0</td>\n",
       "      <td>0</td>\n",
       "      <td>1</td>\n",
       "      <td>0</td>\n",
       "      <td>0</td>\n",
       "      <td>0</td>\n",
       "      <td>0</td>\n",
       "      <td>0</td>\n",
       "      <td>1</td>\n",
       "    </tr>\n",
       "    <tr>\n",
       "      <th>399</th>\n",
       "      <td>5</td>\n",
       "      <td>2</td>\n",
       "      <td>0</td>\n",
       "      <td>1</td>\n",
       "      <td>0</td>\n",
       "      <td>0</td>\n",
       "      <td>0</td>\n",
       "      <td>1</td>\n",
       "      <td>0</td>\n",
       "      <td>0</td>\n",
       "      <td>0</td>\n",
       "      <td>0</td>\n",
       "      <td>1</td>\n",
       "      <td>0</td>\n",
       "      <td>0</td>\n",
       "      <td>1</td>\n",
       "    </tr>\n",
       "  </tbody>\n",
       "</table>\n",
       "</div>"
      ],
      "text/plain": [
       "     Age  Fare  Pclass_1  Pclass_2  Pclass_3  Sex  Large  Single  Small  \\\n",
       "517    0     3         0         0         1    1      0       1      0   \n",
       "356    4     4         1         0         0    0      0       0      1   \n",
       "4      5     2         0         0         1    1      0       1      0   \n",
       "182    2     4         0         0         1    1      1       0      0   \n",
       "399    5     2         0         1         0    0      0       1      0   \n",
       "\n",
       "     Master  Miss  Mr  Mrs  Officer  Royalty  No_cabin  \n",
       "517       0     0   1    0        0        0         1  \n",
       "356       0     1   0    0        0        0         0  \n",
       "4         0     0   1    0        0        0         1  \n",
       "182       1     0   0    0        0        0         1  \n",
       "399       0     0   0    1        0        0         1  "
      ]
     },
     "execution_count": 89,
     "metadata": {},
     "output_type": "execute_result"
    }
   ],
   "source": [
    "combined_X.head()"
   ]
  },
  {
   "cell_type": "code",
   "execution_count": 91,
   "metadata": {},
   "outputs": [
    {
     "data": {
      "image/png": "[encoded data removed]",
      "text/plain": [
       "<matplotlib.figure.Figure at 0x70ec300f28>"
      ]
     },
     "metadata": {},
     "output_type": "display_data"
    }
   ],
   "source": [
    "from sklearn.ensemble.partial_dependence import partial_dependence, plot_partial_dependence\n",
    "my_plots = plot_partial_dependence(gbc,       \n",
    "                                   features=[0, 1], # column numbers of plots we want to show\n",
    "                                   X=combined_X,            # raw predictors data.\n",
    "                                   feature_names=['Age_group', 'Fare_group'], # labels on graphs\n",
    "                                   grid_resolution=10) # number of values to plot on x axis\n",
    "\n",
    "#only works for gbc atm."
   ]
  },
  {
   "cell_type": "code",
   "execution_count": null,
   "metadata": {
    "collapsed": true
   },
   "outputs": [],
   "source": []
  }
 ],
 "metadata": {
  "kernelspec": {
   "display_name": "Python 3",
   "language": "python",
   "name": "python3"
  },
  "language_info": {
   "codemirror_mode": {
    "name": "ipython",
    "version": 3
   },
   "file_extension": ".py",
   "mimetype": "text/x-python",
   "name": "python",
   "nbconvert_exporter": "python",
   "pygments_lexer": "ipython3",
   "version": "3.6.4"
  }
 },
 "nbformat": 4,
 "nbformat_minor": 2
}
